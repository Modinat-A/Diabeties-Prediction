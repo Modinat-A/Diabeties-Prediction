{
  "nbformat": 4,
  "nbformat_minor": 0,
  "metadata": {
    "colab": {
      "name": "regression.ipynb ",
      "provenance": [],
      "authorship_tag": "ABX9TyNFfcdJdXjbBbqGmRAb7x/3",
      "include_colab_link": true
    },
    "kernelspec": {
      "name": "python3",
      "display_name": "Python 3"
    },
    "language_info": {
      "name": "python"
    }
  },
  "cells": [
    {
      "cell_type": "markdown",
      "metadata": {
        "id": "view-in-github",
        "colab_type": "text"
      },
      "source": [
        "<a href=\"https://colab.research.google.com/github/Modinat-A/Diabeties-Prediction/blob/main/regression.ipynb\" target=\"_parent\"><img src=\"https://colab.research.google.com/assets/colab-badge.svg\" alt=\"Open In Colab\"/></a>"
      ]
    },
    {
      "cell_type": "markdown",
      "source": [
        "# Comparative analysis of Regressors"
      ],
      "metadata": {
        "id": "TG-_iHN_gMBO"
      }
    },
    {
      "cell_type": "code",
      "execution_count": null,
      "metadata": {
        "id": "DcgfmunH_oXF"
      },
      "outputs": [],
      "source": [
        "%matplotlib inline\n",
        "import matplotlib\n",
        "import numpy as np\n",
        "import matplotlib.pyplot as plt\n",
        "import pandas as pd\n",
        "import seaborn as sns\n",
        "import sklearn\n",
        "import itertools\n",
        "import sklearn as skl\n",
        "from sklearn.model_selection import train_test_split, StratifiedShuffleSplit, cross_val_score\n",
        "from sklearn.linear_model import SGDRegressor, BayesianRidge\n",
        "from sklearn.preprocessing import LabelEncoder, StandardScaler, OneHotEncoder\n",
        "from sklearn.compose import ColumnTransformer\n",
        "from sklearn.metrics import mean_squared_error as mse\n",
        "from sklearn.metrics import mean_absolute_error as mae\n",
        "from sklearn.metrics import r2_score as r2\n",
        "from sklearn.metrics import accuracy_score as acc\n",
        "from sklearn.metrics import f1_score as f1\n",
        "from sklearn.metrics import make_scorer, confusion_matrix\n",
        "from sklearn.dummy import DummyRegressor, DummyClassifier\n",
        "from sklearn.preprocessing import MinMaxScaler\n",
        "from sklearn.ensemble import GradientBoostingRegressor\n",
        "from sklearn.svm import SVR\n",
        "from sklearn.linear_model import SGDRegressor\n",
        "from sklearn.linear_model import LinearRegression\n",
        "from xgboost.sklearn import XGBRegressor"
      ]
    },
    {
      "cell_type": "markdown",
      "source": [
        ""
      ],
      "metadata": {
        "id": "uUAGjQlJ7oEP"
      }
    },
    {
      "cell_type": "code",
      "source": [
        "df = pd.read_csv('CE802_P3_Data.csv')"
      ],
      "metadata": {
        "id": "zPtonFeMDjI-"
      },
      "execution_count": null,
      "outputs": []
    },
    {
      "cell_type": "code",
      "source": [
        "df.head(5)"
      ],
      "metadata": {
        "colab": {
          "base_uri": "https://localhost:8080/",
          "height": 248
        },
        "id": "XDfDI1dLGBYb",
        "outputId": "47277d84-54e2-4cf5-ca59-5c3c3f141c20"
      },
      "execution_count": null,
      "outputs": [
        {
          "output_type": "execute_result",
          "data": {
            "text/plain": [
              "      F1    F2     F3     F4     F5      F6      F7      F8  F9      F10  \\\n",
              "0   0.00  1.73   3.14   5.73  -5.48 -743.61  152.20  Europe   3  1577.82   \n",
              "1   9.84  3.46   6.02  14.42 -10.94 -820.35   68.56    Rest   4  1884.69   \n",
              "2   4.14 -1.95   6.96   4.27  -7.94 -818.43  107.86    Rest   4  2063.79   \n",
              "3  20.06 -3.34   3.76   4.78  -6.30 -814.53  147.04      UK   7  1319.19   \n",
              "4  63.63 -0.97  11.08   5.66  -9.60 -847.41   99.70  Europe   1  1921.14   \n",
              "\n",
              "      F11  F12      F13    F14        F15       F16   Target  \n",
              "0 -383.82   12 -2289.14 -19.69       High  25354.83   167.75  \n",
              "1 -488.34    6 -2899.20 -19.46   Very low  32380.17   704.46  \n",
              "2 -287.76    6 -2885.52 -20.57  Very high  28882.38   302.43  \n",
              "3 -435.54    4 -2319.80 -20.24  Very high  28523.04  2420.98  \n",
              "4 -246.45   10 -1344.40 -21.90     Medium  27915.81   271.65  "
            ],
            "text/html": [
              "\n",
              "  <div id=\"df-d2276274-6379-4223-8200-ef5dae88756a\">\n",
              "    <div class=\"colab-df-container\">\n",
              "      <div>\n",
              "<style scoped>\n",
              "    .dataframe tbody tr th:only-of-type {\n",
              "        vertical-align: middle;\n",
              "    }\n",
              "\n",
              "    .dataframe tbody tr th {\n",
              "        vertical-align: top;\n",
              "    }\n",
              "\n",
              "    .dataframe thead th {\n",
              "        text-align: right;\n",
              "    }\n",
              "</style>\n",
              "<table border=\"1\" class=\"dataframe\">\n",
              "  <thead>\n",
              "    <tr style=\"text-align: right;\">\n",
              "      <th></th>\n",
              "      <th>F1</th>\n",
              "      <th>F2</th>\n",
              "      <th>F3</th>\n",
              "      <th>F4</th>\n",
              "      <th>F5</th>\n",
              "      <th>F6</th>\n",
              "      <th>F7</th>\n",
              "      <th>F8</th>\n",
              "      <th>F9</th>\n",
              "      <th>F10</th>\n",
              "      <th>F11</th>\n",
              "      <th>F12</th>\n",
              "      <th>F13</th>\n",
              "      <th>F14</th>\n",
              "      <th>F15</th>\n",
              "      <th>F16</th>\n",
              "      <th>Target</th>\n",
              "    </tr>\n",
              "  </thead>\n",
              "  <tbody>\n",
              "    <tr>\n",
              "      <th>0</th>\n",
              "      <td>0.00</td>\n",
              "      <td>1.73</td>\n",
              "      <td>3.14</td>\n",
              "      <td>5.73</td>\n",
              "      <td>-5.48</td>\n",
              "      <td>-743.61</td>\n",
              "      <td>152.20</td>\n",
              "      <td>Europe</td>\n",
              "      <td>3</td>\n",
              "      <td>1577.82</td>\n",
              "      <td>-383.82</td>\n",
              "      <td>12</td>\n",
              "      <td>-2289.14</td>\n",
              "      <td>-19.69</td>\n",
              "      <td>High</td>\n",
              "      <td>25354.83</td>\n",
              "      <td>167.75</td>\n",
              "    </tr>\n",
              "    <tr>\n",
              "      <th>1</th>\n",
              "      <td>9.84</td>\n",
              "      <td>3.46</td>\n",
              "      <td>6.02</td>\n",
              "      <td>14.42</td>\n",
              "      <td>-10.94</td>\n",
              "      <td>-820.35</td>\n",
              "      <td>68.56</td>\n",
              "      <td>Rest</td>\n",
              "      <td>4</td>\n",
              "      <td>1884.69</td>\n",
              "      <td>-488.34</td>\n",
              "      <td>6</td>\n",
              "      <td>-2899.20</td>\n",
              "      <td>-19.46</td>\n",
              "      <td>Very low</td>\n",
              "      <td>32380.17</td>\n",
              "      <td>704.46</td>\n",
              "    </tr>\n",
              "    <tr>\n",
              "      <th>2</th>\n",
              "      <td>4.14</td>\n",
              "      <td>-1.95</td>\n",
              "      <td>6.96</td>\n",
              "      <td>4.27</td>\n",
              "      <td>-7.94</td>\n",
              "      <td>-818.43</td>\n",
              "      <td>107.86</td>\n",
              "      <td>Rest</td>\n",
              "      <td>4</td>\n",
              "      <td>2063.79</td>\n",
              "      <td>-287.76</td>\n",
              "      <td>6</td>\n",
              "      <td>-2885.52</td>\n",
              "      <td>-20.57</td>\n",
              "      <td>Very high</td>\n",
              "      <td>28882.38</td>\n",
              "      <td>302.43</td>\n",
              "    </tr>\n",
              "    <tr>\n",
              "      <th>3</th>\n",
              "      <td>20.06</td>\n",
              "      <td>-3.34</td>\n",
              "      <td>3.76</td>\n",
              "      <td>4.78</td>\n",
              "      <td>-6.30</td>\n",
              "      <td>-814.53</td>\n",
              "      <td>147.04</td>\n",
              "      <td>UK</td>\n",
              "      <td>7</td>\n",
              "      <td>1319.19</td>\n",
              "      <td>-435.54</td>\n",
              "      <td>4</td>\n",
              "      <td>-2319.80</td>\n",
              "      <td>-20.24</td>\n",
              "      <td>Very high</td>\n",
              "      <td>28523.04</td>\n",
              "      <td>2420.98</td>\n",
              "    </tr>\n",
              "    <tr>\n",
              "      <th>4</th>\n",
              "      <td>63.63</td>\n",
              "      <td>-0.97</td>\n",
              "      <td>11.08</td>\n",
              "      <td>5.66</td>\n",
              "      <td>-9.60</td>\n",
              "      <td>-847.41</td>\n",
              "      <td>99.70</td>\n",
              "      <td>Europe</td>\n",
              "      <td>1</td>\n",
              "      <td>1921.14</td>\n",
              "      <td>-246.45</td>\n",
              "      <td>10</td>\n",
              "      <td>-1344.40</td>\n",
              "      <td>-21.90</td>\n",
              "      <td>Medium</td>\n",
              "      <td>27915.81</td>\n",
              "      <td>271.65</td>\n",
              "    </tr>\n",
              "  </tbody>\n",
              "</table>\n",
              "</div>\n",
              "      <button class=\"colab-df-convert\" onclick=\"convertToInteractive('df-d2276274-6379-4223-8200-ef5dae88756a')\"\n",
              "              title=\"Convert this dataframe to an interactive table.\"\n",
              "              style=\"display:none;\">\n",
              "        \n",
              "  <svg xmlns=\"http://www.w3.org/2000/svg\" height=\"24px\"viewBox=\"0 0 24 24\"\n",
              "       width=\"24px\">\n",
              "    <path d=\"M0 0h24v24H0V0z\" fill=\"none\"/>\n",
              "    <path d=\"M18.56 5.44l.94 2.06.94-2.06 2.06-.94-2.06-.94-.94-2.06-.94 2.06-2.06.94zm-11 1L8.5 8.5l.94-2.06 2.06-.94-2.06-.94L8.5 2.5l-.94 2.06-2.06.94zm10 10l.94 2.06.94-2.06 2.06-.94-2.06-.94-.94-2.06-.94 2.06-2.06.94z\"/><path d=\"M17.41 7.96l-1.37-1.37c-.4-.4-.92-.59-1.43-.59-.52 0-1.04.2-1.43.59L10.3 9.45l-7.72 7.72c-.78.78-.78 2.05 0 2.83L4 21.41c.39.39.9.59 1.41.59.51 0 1.02-.2 1.41-.59l7.78-7.78 2.81-2.81c.8-.78.8-2.07 0-2.86zM5.41 20L4 18.59l7.72-7.72 1.47 1.35L5.41 20z\"/>\n",
              "  </svg>\n",
              "      </button>\n",
              "      \n",
              "  <style>\n",
              "    .colab-df-container {\n",
              "      display:flex;\n",
              "      flex-wrap:wrap;\n",
              "      gap: 12px;\n",
              "    }\n",
              "\n",
              "    .colab-df-convert {\n",
              "      background-color: #E8F0FE;\n",
              "      border: none;\n",
              "      border-radius: 50%;\n",
              "      cursor: pointer;\n",
              "      display: none;\n",
              "      fill: #1967D2;\n",
              "      height: 32px;\n",
              "      padding: 0 0 0 0;\n",
              "      width: 32px;\n",
              "    }\n",
              "\n",
              "    .colab-df-convert:hover {\n",
              "      background-color: #E2EBFA;\n",
              "      box-shadow: 0px 1px 2px rgba(60, 64, 67, 0.3), 0px 1px 3px 1px rgba(60, 64, 67, 0.15);\n",
              "      fill: #174EA6;\n",
              "    }\n",
              "\n",
              "    [theme=dark] .colab-df-convert {\n",
              "      background-color: #3B4455;\n",
              "      fill: #D2E3FC;\n",
              "    }\n",
              "\n",
              "    [theme=dark] .colab-df-convert:hover {\n",
              "      background-color: #434B5C;\n",
              "      box-shadow: 0px 1px 3px 1px rgba(0, 0, 0, 0.15);\n",
              "      filter: drop-shadow(0px 1px 2px rgba(0, 0, 0, 0.3));\n",
              "      fill: #FFFFFF;\n",
              "    }\n",
              "  </style>\n",
              "\n",
              "      <script>\n",
              "        const buttonEl =\n",
              "          document.querySelector('#df-d2276274-6379-4223-8200-ef5dae88756a button.colab-df-convert');\n",
              "        buttonEl.style.display =\n",
              "          google.colab.kernel.accessAllowed ? 'block' : 'none';\n",
              "\n",
              "        async function convertToInteractive(key) {\n",
              "          const element = document.querySelector('#df-d2276274-6379-4223-8200-ef5dae88756a');\n",
              "          const dataTable =\n",
              "            await google.colab.kernel.invokeFunction('convertToInteractive',\n",
              "                                                     [key], {});\n",
              "          if (!dataTable) return;\n",
              "\n",
              "          const docLinkHtml = 'Like what you see? Visit the ' +\n",
              "            '<a target=\"_blank\" href=https://colab.research.google.com/notebooks/data_table.ipynb>data table notebook</a>'\n",
              "            + ' to learn more about interactive tables.';\n",
              "          element.innerHTML = '';\n",
              "          dataTable['output_type'] = 'display_data';\n",
              "          await google.colab.output.renderOutput(dataTable, element);\n",
              "          const docLink = document.createElement('div');\n",
              "          docLink.innerHTML = docLinkHtml;\n",
              "          element.appendChild(docLink);\n",
              "        }\n",
              "      </script>\n",
              "    </div>\n",
              "  </div>\n",
              "  "
            ]
          },
          "metadata": {},
          "execution_count": 3
        }
      ]
    },
    {
      "cell_type": "code",
      "source": [
        "df.describe()"
      ],
      "metadata": {
        "colab": {
          "base_uri": "https://localhost:8080/",
          "height": 361
        },
        "id": "ZmdVievIDnRL",
        "outputId": "a37946a8-00ff-44b8-efe9-6ea34e30ecb3"
      },
      "execution_count": null,
      "outputs": [
        {
          "output_type": "execute_result",
          "data": {
            "text/plain": [
              "                 F1           F2           F3           F4           F5  \\\n",
              "count   1500.000000  1500.000000  1500.000000  1500.000000  1500.000000   \n",
              "mean      63.602773    -0.104847     8.109187     4.041660    -8.765747   \n",
              "std      774.154296     3.040026     5.812853     2.893909     6.048501   \n",
              "min        0.000000   -10.170000     0.080000     0.040000   -27.620000   \n",
              "25%        0.130000    -2.060000     3.815000     1.945000   -13.000000   \n",
              "50%        1.010000    -0.000000     6.740000     3.415000    -8.760000   \n",
              "75%        6.805000     1.875000    10.945000     5.492500    -4.520000   \n",
              "max    27474.530000     9.600000    45.140000    23.390000     9.280000   \n",
              "\n",
              "                F6           F7           F9         F10          F11  \\\n",
              "count  1500.000000  1500.000000  1500.000000  1500.00000  1500.000000   \n",
              "mean   -815.349400   123.191920     3.947333  1334.90566  -341.195900   \n",
              "std     126.724179    58.613624     1.836702   904.26205    89.572842   \n",
              "min   -1658.250000   -56.180000     0.000000 -1743.24000  -697.350000   \n",
              "25%    -875.347500    83.900000     3.000000   732.36000  -401.340000   \n",
              "50%    -815.535000   121.580000     4.000000  1324.15500  -341.055000   \n",
              "75%    -752.130000   161.920000     5.000000  1962.12750  -278.595000   \n",
              "max    -243.840000   328.100000    11.000000  4487.55000   -25.530000   \n",
              "\n",
              "               F12          F13          F14           F16       Target  \n",
              "count  1500.000000  1500.000000  1500.000000   1500.000000  1500.000000  \n",
              "mean      7.885333 -2173.617040   -20.066667  24202.705020   922.082533  \n",
              "std       3.620072   592.936195     4.183142  13329.106617  1092.331874  \n",
              "min       0.000000 -4161.840000   -36.320000 -35082.450000     0.000000  \n",
              "25%       6.000000 -2578.875000   -22.045000  18069.450000     0.000000  \n",
              "50%       8.000000 -2179.270000   -20.085000  24205.875000   429.570000  \n",
              "75%      10.000000 -1763.605000   -18.175000  30911.280000  1530.205000  \n",
              "max      20.000000   -45.160000     7.550000  85263.240000  3960.010000  "
            ],
            "text/html": [
              "\n",
              "  <div id=\"df-13028822-6085-48de-804f-ea601757abdf\">\n",
              "    <div class=\"colab-df-container\">\n",
              "      <div>\n",
              "<style scoped>\n",
              "    .dataframe tbody tr th:only-of-type {\n",
              "        vertical-align: middle;\n",
              "    }\n",
              "\n",
              "    .dataframe tbody tr th {\n",
              "        vertical-align: top;\n",
              "    }\n",
              "\n",
              "    .dataframe thead th {\n",
              "        text-align: right;\n",
              "    }\n",
              "</style>\n",
              "<table border=\"1\" class=\"dataframe\">\n",
              "  <thead>\n",
              "    <tr style=\"text-align: right;\">\n",
              "      <th></th>\n",
              "      <th>F1</th>\n",
              "      <th>F2</th>\n",
              "      <th>F3</th>\n",
              "      <th>F4</th>\n",
              "      <th>F5</th>\n",
              "      <th>F6</th>\n",
              "      <th>F7</th>\n",
              "      <th>F9</th>\n",
              "      <th>F10</th>\n",
              "      <th>F11</th>\n",
              "      <th>F12</th>\n",
              "      <th>F13</th>\n",
              "      <th>F14</th>\n",
              "      <th>F16</th>\n",
              "      <th>Target</th>\n",
              "    </tr>\n",
              "  </thead>\n",
              "  <tbody>\n",
              "    <tr>\n",
              "      <th>count</th>\n",
              "      <td>1500.000000</td>\n",
              "      <td>1500.000000</td>\n",
              "      <td>1500.000000</td>\n",
              "      <td>1500.000000</td>\n",
              "      <td>1500.000000</td>\n",
              "      <td>1500.000000</td>\n",
              "      <td>1500.000000</td>\n",
              "      <td>1500.000000</td>\n",
              "      <td>1500.00000</td>\n",
              "      <td>1500.000000</td>\n",
              "      <td>1500.000000</td>\n",
              "      <td>1500.000000</td>\n",
              "      <td>1500.000000</td>\n",
              "      <td>1500.000000</td>\n",
              "      <td>1500.000000</td>\n",
              "    </tr>\n",
              "    <tr>\n",
              "      <th>mean</th>\n",
              "      <td>63.602773</td>\n",
              "      <td>-0.104847</td>\n",
              "      <td>8.109187</td>\n",
              "      <td>4.041660</td>\n",
              "      <td>-8.765747</td>\n",
              "      <td>-815.349400</td>\n",
              "      <td>123.191920</td>\n",
              "      <td>3.947333</td>\n",
              "      <td>1334.90566</td>\n",
              "      <td>-341.195900</td>\n",
              "      <td>7.885333</td>\n",
              "      <td>-2173.617040</td>\n",
              "      <td>-20.066667</td>\n",
              "      <td>24202.705020</td>\n",
              "      <td>922.082533</td>\n",
              "    </tr>\n",
              "    <tr>\n",
              "      <th>std</th>\n",
              "      <td>774.154296</td>\n",
              "      <td>3.040026</td>\n",
              "      <td>5.812853</td>\n",
              "      <td>2.893909</td>\n",
              "      <td>6.048501</td>\n",
              "      <td>126.724179</td>\n",
              "      <td>58.613624</td>\n",
              "      <td>1.836702</td>\n",
              "      <td>904.26205</td>\n",
              "      <td>89.572842</td>\n",
              "      <td>3.620072</td>\n",
              "      <td>592.936195</td>\n",
              "      <td>4.183142</td>\n",
              "      <td>13329.106617</td>\n",
              "      <td>1092.331874</td>\n",
              "    </tr>\n",
              "    <tr>\n",
              "      <th>min</th>\n",
              "      <td>0.000000</td>\n",
              "      <td>-10.170000</td>\n",
              "      <td>0.080000</td>\n",
              "      <td>0.040000</td>\n",
              "      <td>-27.620000</td>\n",
              "      <td>-1658.250000</td>\n",
              "      <td>-56.180000</td>\n",
              "      <td>0.000000</td>\n",
              "      <td>-1743.24000</td>\n",
              "      <td>-697.350000</td>\n",
              "      <td>0.000000</td>\n",
              "      <td>-4161.840000</td>\n",
              "      <td>-36.320000</td>\n",
              "      <td>-35082.450000</td>\n",
              "      <td>0.000000</td>\n",
              "    </tr>\n",
              "    <tr>\n",
              "      <th>25%</th>\n",
              "      <td>0.130000</td>\n",
              "      <td>-2.060000</td>\n",
              "      <td>3.815000</td>\n",
              "      <td>1.945000</td>\n",
              "      <td>-13.000000</td>\n",
              "      <td>-875.347500</td>\n",
              "      <td>83.900000</td>\n",
              "      <td>3.000000</td>\n",
              "      <td>732.36000</td>\n",
              "      <td>-401.340000</td>\n",
              "      <td>6.000000</td>\n",
              "      <td>-2578.875000</td>\n",
              "      <td>-22.045000</td>\n",
              "      <td>18069.450000</td>\n",
              "      <td>0.000000</td>\n",
              "    </tr>\n",
              "    <tr>\n",
              "      <th>50%</th>\n",
              "      <td>1.010000</td>\n",
              "      <td>-0.000000</td>\n",
              "      <td>6.740000</td>\n",
              "      <td>3.415000</td>\n",
              "      <td>-8.760000</td>\n",
              "      <td>-815.535000</td>\n",
              "      <td>121.580000</td>\n",
              "      <td>4.000000</td>\n",
              "      <td>1324.15500</td>\n",
              "      <td>-341.055000</td>\n",
              "      <td>8.000000</td>\n",
              "      <td>-2179.270000</td>\n",
              "      <td>-20.085000</td>\n",
              "      <td>24205.875000</td>\n",
              "      <td>429.570000</td>\n",
              "    </tr>\n",
              "    <tr>\n",
              "      <th>75%</th>\n",
              "      <td>6.805000</td>\n",
              "      <td>1.875000</td>\n",
              "      <td>10.945000</td>\n",
              "      <td>5.492500</td>\n",
              "      <td>-4.520000</td>\n",
              "      <td>-752.130000</td>\n",
              "      <td>161.920000</td>\n",
              "      <td>5.000000</td>\n",
              "      <td>1962.12750</td>\n",
              "      <td>-278.595000</td>\n",
              "      <td>10.000000</td>\n",
              "      <td>-1763.605000</td>\n",
              "      <td>-18.175000</td>\n",
              "      <td>30911.280000</td>\n",
              "      <td>1530.205000</td>\n",
              "    </tr>\n",
              "    <tr>\n",
              "      <th>max</th>\n",
              "      <td>27474.530000</td>\n",
              "      <td>9.600000</td>\n",
              "      <td>45.140000</td>\n",
              "      <td>23.390000</td>\n",
              "      <td>9.280000</td>\n",
              "      <td>-243.840000</td>\n",
              "      <td>328.100000</td>\n",
              "      <td>11.000000</td>\n",
              "      <td>4487.55000</td>\n",
              "      <td>-25.530000</td>\n",
              "      <td>20.000000</td>\n",
              "      <td>-45.160000</td>\n",
              "      <td>7.550000</td>\n",
              "      <td>85263.240000</td>\n",
              "      <td>3960.010000</td>\n",
              "    </tr>\n",
              "  </tbody>\n",
              "</table>\n",
              "</div>\n",
              "      <button class=\"colab-df-convert\" onclick=\"convertToInteractive('df-13028822-6085-48de-804f-ea601757abdf')\"\n",
              "              title=\"Convert this dataframe to an interactive table.\"\n",
              "              style=\"display:none;\">\n",
              "        \n",
              "  <svg xmlns=\"http://www.w3.org/2000/svg\" height=\"24px\"viewBox=\"0 0 24 24\"\n",
              "       width=\"24px\">\n",
              "    <path d=\"M0 0h24v24H0V0z\" fill=\"none\"/>\n",
              "    <path d=\"M18.56 5.44l.94 2.06.94-2.06 2.06-.94-2.06-.94-.94-2.06-.94 2.06-2.06.94zm-11 1L8.5 8.5l.94-2.06 2.06-.94-2.06-.94L8.5 2.5l-.94 2.06-2.06.94zm10 10l.94 2.06.94-2.06 2.06-.94-2.06-.94-.94-2.06-.94 2.06-2.06.94z\"/><path d=\"M17.41 7.96l-1.37-1.37c-.4-.4-.92-.59-1.43-.59-.52 0-1.04.2-1.43.59L10.3 9.45l-7.72 7.72c-.78.78-.78 2.05 0 2.83L4 21.41c.39.39.9.59 1.41.59.51 0 1.02-.2 1.41-.59l7.78-7.78 2.81-2.81c.8-.78.8-2.07 0-2.86zM5.41 20L4 18.59l7.72-7.72 1.47 1.35L5.41 20z\"/>\n",
              "  </svg>\n",
              "      </button>\n",
              "      \n",
              "  <style>\n",
              "    .colab-df-container {\n",
              "      display:flex;\n",
              "      flex-wrap:wrap;\n",
              "      gap: 12px;\n",
              "    }\n",
              "\n",
              "    .colab-df-convert {\n",
              "      background-color: #E8F0FE;\n",
              "      border: none;\n",
              "      border-radius: 50%;\n",
              "      cursor: pointer;\n",
              "      display: none;\n",
              "      fill: #1967D2;\n",
              "      height: 32px;\n",
              "      padding: 0 0 0 0;\n",
              "      width: 32px;\n",
              "    }\n",
              "\n",
              "    .colab-df-convert:hover {\n",
              "      background-color: #E2EBFA;\n",
              "      box-shadow: 0px 1px 2px rgba(60, 64, 67, 0.3), 0px 1px 3px 1px rgba(60, 64, 67, 0.15);\n",
              "      fill: #174EA6;\n",
              "    }\n",
              "\n",
              "    [theme=dark] .colab-df-convert {\n",
              "      background-color: #3B4455;\n",
              "      fill: #D2E3FC;\n",
              "    }\n",
              "\n",
              "    [theme=dark] .colab-df-convert:hover {\n",
              "      background-color: #434B5C;\n",
              "      box-shadow: 0px 1px 3px 1px rgba(0, 0, 0, 0.15);\n",
              "      filter: drop-shadow(0px 1px 2px rgba(0, 0, 0, 0.3));\n",
              "      fill: #FFFFFF;\n",
              "    }\n",
              "  </style>\n",
              "\n",
              "      <script>\n",
              "        const buttonEl =\n",
              "          document.querySelector('#df-13028822-6085-48de-804f-ea601757abdf button.colab-df-convert');\n",
              "        buttonEl.style.display =\n",
              "          google.colab.kernel.accessAllowed ? 'block' : 'none';\n",
              "\n",
              "        async function convertToInteractive(key) {\n",
              "          const element = document.querySelector('#df-13028822-6085-48de-804f-ea601757abdf');\n",
              "          const dataTable =\n",
              "            await google.colab.kernel.invokeFunction('convertToInteractive',\n",
              "                                                     [key], {});\n",
              "          if (!dataTable) return;\n",
              "\n",
              "          const docLinkHtml = 'Like what you see? Visit the ' +\n",
              "            '<a target=\"_blank\" href=https://colab.research.google.com/notebooks/data_table.ipynb>data table notebook</a>'\n",
              "            + ' to learn more about interactive tables.';\n",
              "          element.innerHTML = '';\n",
              "          dataTable['output_type'] = 'display_data';\n",
              "          await google.colab.output.renderOutput(dataTable, element);\n",
              "          const docLink = document.createElement('div');\n",
              "          docLink.innerHTML = docLinkHtml;\n",
              "          element.appendChild(docLink);\n",
              "        }\n",
              "      </script>\n",
              "    </div>\n",
              "  </div>\n",
              "  "
            ]
          },
          "metadata": {},
          "execution_count": 7
        }
      ]
    },
    {
      "cell_type": "code",
      "source": [
        "df.info()"
      ],
      "metadata": {
        "colab": {
          "base_uri": "https://localhost:8080/"
        },
        "id": "JTC4TYQZF9lm",
        "outputId": "26625ab5-4e83-4499-abf0-668137260755"
      },
      "execution_count": null,
      "outputs": [
        {
          "output_type": "stream",
          "name": "stdout",
          "text": [
            "<class 'pandas.core.frame.DataFrame'>\n",
            "RangeIndex: 1500 entries, 0 to 1499\n",
            "Data columns (total 17 columns):\n",
            " #   Column  Non-Null Count  Dtype  \n",
            "---  ------  --------------  -----  \n",
            " 0   F1      1500 non-null   float64\n",
            " 1   F2      1500 non-null   float64\n",
            " 2   F3      1500 non-null   float64\n",
            " 3   F4      1500 non-null   float64\n",
            " 4   F5      1500 non-null   float64\n",
            " 5   F6      1500 non-null   float64\n",
            " 6   F7      1500 non-null   float64\n",
            " 7   F8      1500 non-null   object \n",
            " 8   F9      1500 non-null   int64  \n",
            " 9   F10     1500 non-null   float64\n",
            " 10  F11     1500 non-null   float64\n",
            " 11  F12     1500 non-null   int64  \n",
            " 12  F13     1500 non-null   float64\n",
            " 13  F14     1500 non-null   float64\n",
            " 14  F15     1500 non-null   object \n",
            " 15  F16     1500 non-null   float64\n",
            " 16  Target  1500 non-null   float64\n",
            "dtypes: float64(13), int64(2), object(2)\n",
            "memory usage: 199.3+ KB\n"
          ]
        }
      ]
    },
    {
      "cell_type": "code",
      "source": [
        "df.isnull().sum()"
      ],
      "metadata": {
        "id": "5HefRN7GEYqw",
        "colab": {
          "base_uri": "https://localhost:8080/"
        },
        "outputId": "a9e3db3f-9779-4d26-8bb0-af4aacd4a53b"
      },
      "execution_count": null,
      "outputs": [
        {
          "output_type": "execute_result",
          "data": {
            "text/plain": [
              "F1        0\n",
              "F2        0\n",
              "F3        0\n",
              "F4        0\n",
              "F5        0\n",
              "F6        0\n",
              "F7        0\n",
              "F8        0\n",
              "F9        0\n",
              "F10       0\n",
              "F11       0\n",
              "F12       0\n",
              "F13       0\n",
              "F14       0\n",
              "F15       0\n",
              "F16       0\n",
              "Target    0\n",
              "dtype: int64"
            ]
          },
          "metadata": {},
          "execution_count": 9
        }
      ]
    },
    {
      "cell_type": "code",
      "source": [
        "# Correlations\n",
        "correlations = df.corr() \n",
        "# let's see how much each attribute correlates with Target\n",
        "correlations['Target'].sort_values(ascending=False)"
      ],
      "metadata": {
        "colab": {
          "base_uri": "https://localhost:8080/"
        },
        "id": "iuyNay4zO9p6",
        "outputId": "c4ece4c8-be7b-43f0-97dd-e7c719a328f1"
      },
      "execution_count": null,
      "outputs": [
        {
          "output_type": "execute_result",
          "data": {
            "text/plain": [
              "Target    1.000000\n",
              "F7        0.430990\n",
              "F3        0.357137\n",
              "F4        0.346373\n",
              "F13       0.300890\n",
              "F9        0.193704\n",
              "F6        0.031407\n",
              "F16       0.029194\n",
              "F1        0.027713\n",
              "F5        0.020443\n",
              "F11       0.015412\n",
              "F2        0.011330\n",
              "F14      -0.018677\n",
              "F12      -0.236200\n",
              "F10      -0.263022\n",
              "Name: Target, dtype: float64"
            ]
          },
          "metadata": {},
          "execution_count": 10
        }
      ]
    },
    {
      "cell_type": "code",
      "source": [
        "X = df.drop('Target', axis=1)\n",
        "y = df['Target']"
      ],
      "metadata": {
        "id": "Zo8TnTYhEcQv"
      },
      "execution_count": null,
      "outputs": []
    },
    {
      "cell_type": "code",
      "source": [
        "_ = sns.histplot(y, kde=False)"
      ],
      "metadata": {
        "colab": {
          "base_uri": "https://localhost:8080/",
          "height": 279
        },
        "id": "FhtHvBi-Lkwt",
        "outputId": "9cc626ee-e4f1-49e3-9372-f6806470d990"
      },
      "execution_count": null,
      "outputs": [
        {
          "output_type": "display_data",
          "data": {
            "text/plain": [
              "<Figure size 432x288 with 1 Axes>"
            ],
            "image/png": "[encoded data removed]"
          },
          "metadata": {
            "needs_background": "light"
          }
        }
      ]
    },
    {
      "cell_type": "code",
      "source": [
        "def scale_X(X):\n",
        "    cat_features=['F8','F15']\n",
        "    num_features = ['F1','F2','F3','F4','F5','F6','F7','F9','F10','F11','F12','F13','F14','F16']\n",
        "    colTransformer = ColumnTransformer([\n",
        "        ('num', StandardScaler(), num_features),\n",
        "        ('cat', OneHotEncoder(), cat_features)\n",
        "        ],\n",
        "        remainder='passthrough'  # i.e., leave the rest of the columns untouched -- otherwise, they're dropped\n",
        "        )\n",
        "    data = colTransformer.fit_transform(X)\n",
        "    return data\n"
      ],
      "metadata": {
        "id": "_AhdE2uPKnu_"
      },
      "execution_count": null,
      "outputs": []
    },
    {
      "cell_type": "code",
      "source": [
        "X = scale_X(X)"
      ],
      "metadata": {
        "id": "nDSLvKW6LuK3"
      },
      "execution_count": null,
      "outputs": []
    },
    {
      "cell_type": "code",
      "source": [
        "X.shape"
      ],
      "metadata": {
        "colab": {
          "base_uri": "https://localhost:8080/"
        },
        "id": "JkT-SOK0UxMA",
        "outputId": "cbb17183-210b-4a6d-d064-41658aadd681"
      },
      "execution_count": null,
      "outputs": [
        {
          "output_type": "execute_result",
          "data": {
            "text/plain": [
              "(1500, 23)"
            ]
          },
          "metadata": {},
          "execution_count": 15
        }
      ]
    },
    {
      "cell_type": "code",
      "source": [
        "y = y.values\n",
        "y_transformer = MinMaxScaler(feature_range=(0, 1))\n",
        "y = y_transformer.fit_transform(y.reshape(-1,1))"
      ],
      "metadata": {
        "id": "LuGnFNWSAefF"
      },
      "execution_count": null,
      "outputs": []
    },
    {
      "cell_type": "code",
      "source": [
        "X_train, X_test, y_train, y_test = train_test_split(X,y, test_size=0.30,random_state=42)"
      ],
      "metadata": {
        "id": "xqwPIbxtLoKR"
      },
      "execution_count": null,
      "outputs": []
    },
    {
      "cell_type": "markdown",
      "source": [
        "# Linear Regression"
      ],
      "metadata": {
        "id": "QzIyOJa9u-Aq"
      }
    },
    {
      "cell_type": "code",
      "source": [
        "# use dummy regressor as bench mark\n",
        "dummy_clf = DummyRegressor(strategy='mean')\n",
        "dummy_scores = cross_val_score(dummy_clf, X_train, y_train.ravel(), cv=10, scoring = make_scorer(mse))\n",
        "print(\"Dummy MSE: %0.8f +/- %0.8f\" % (dummy_scores.mean(), dummy_scores.std()))"
      ],
      "metadata": {
        "colab": {
          "base_uri": "https://localhost:8080/"
        },
        "id": "HVOvMK2QU1uv",
        "outputId": "98c59791-578e-435d-a36b-6f987387d50c"
      },
      "execution_count": null,
      "outputs": [
        {
          "output_type": "stream",
          "name": "stdout",
          "text": [
            "Dummy MSE: 0.07923554 +/- 0.01077776\n"
          ]
        }
      ]
    },
    {
      "cell_type": "code",
      "source": [
        "rg = LinearRegression()\n",
        "rg.fit(X_train, y_train)\n",
        "scores = cross_val_score(rg,X_train, y_train, cv=10,scoring=make_scorer(mse)) \n",
        "print(\"MSE: %0.8f +/- %0.8f\" % (scores.mean(), scores.std()))"
      ],
      "metadata": {
        "colab": {
          "base_uri": "https://localhost:8080/"
        },
        "id": "hPmf4koO76eW",
        "outputId": "251f529b-7d29-4540-d8e2-8d1d4138cc72"
      },
      "execution_count": null,
      "outputs": [
        {
          "output_type": "stream",
          "name": "stdout",
          "text": [
            "MSE: 0.01679106 +/- 0.00252107\n"
          ]
        }
      ]
    },
    {
      "cell_type": "code",
      "source": [
        "scores = cross_val_score(rg,X_train, y_train, cv=10,scoring=make_scorer(r2)) \n",
        "print(\"R squared of the model %0.8f +/- %0.8f\" % (scores.mean(), scores.std()))"
      ],
      "metadata": {
        "colab": {
          "base_uri": "https://localhost:8080/"
        },
        "id": "M6ExU3nxL_4q",
        "outputId": "a6362e1f-76c4-49fd-a4ba-34a3b43a2333"
      },
      "execution_count": null,
      "outputs": [
        {
          "output_type": "stream",
          "name": "stdout",
          "text": [
            "R squared of the model 0.78473074 +/- 0.03076897\n"
          ]
        }
      ]
    },
    {
      "cell_type": "code",
      "source": [
        "# Run on test data\n",
        "y_pred = rg.predict(X_test)\n",
        "print(\"MSE of the model = %1.4g\" % mse(y_test, y_pred))"
      ],
      "metadata": {
        "colab": {
          "base_uri": "https://localhost:8080/"
        },
        "id": "_AOr7mexBgRx",
        "outputId": "7ebd2062-52f2-4786-ad80-5d877cb45d5d"
      },
      "execution_count": null,
      "outputs": [
        {
          "output_type": "stream",
          "name": "stdout",
          "text": [
            "MSE of the model = 0.01626\n"
          ]
        }
      ]
    },
    {
      "cell_type": "markdown",
      "source": [
        "# Support Vector Regression"
      ],
      "metadata": {
        "id": "-hpHr9qrvSJz"
      }
    },
    {
      "cell_type": "code",
      "source": [
        "svr = SVR(kernel='linear')\n",
        "svr.fit(X_train, y_train) \n",
        "\n",
        "# cross-validation of the MSE\n",
        "scores = cross_val_score(svr,X_train, y_train.ravel(), cv=10,scoring=make_scorer(mse)) \n",
        "print(\"MSE: %0.8f +/- %0.8f\" % (scores.mean(), scores.std()))"
      ],
      "metadata": {
        "colab": {
          "base_uri": "https://localhost:8080/"
        },
        "id": "guJ7LzPOFMsz",
        "outputId": "60b1a904-2cfe-41fe-c23c-54735b8c3c1f"
      },
      "execution_count": null,
      "outputs": [
        {
          "output_type": "stream",
          "name": "stderr",
          "text": [
            "/usr/local/lib/python3.7/dist-packages/sklearn/utils/validation.py:993: DataConversionWarning: A column-vector y was passed when a 1d array was expected. Please change the shape of y to (n_samples, ), for example using ravel().\n",
            "  y = column_or_1d(y, warn=True)\n"
          ]
        },
        {
          "output_type": "stream",
          "name": "stdout",
          "text": [
            "MSE: 0.01764333 +/- 0.00316564\n"
          ]
        }
      ]
    },
    {
      "cell_type": "code",
      "source": [
        "scores = cross_val_score(svr,X_train, y_train.ravel(), cv=10,scoring=make_scorer(r2)) \n",
        "print(\"R squared of the model %0.8f +/- %0.8f\" % (scores.mean(), scores.std()))"
      ],
      "metadata": {
        "colab": {
          "base_uri": "https://localhost:8080/"
        },
        "id": "HXTLEdwn849f",
        "outputId": "ffdd6720-a9fb-45ce-af17-10d09c506bd6"
      },
      "execution_count": null,
      "outputs": [
        {
          "output_type": "stream",
          "name": "stdout",
          "text": [
            "R squared of the model 0.77445762 +/- 0.03463881\n"
          ]
        }
      ]
    },
    {
      "cell_type": "code",
      "source": [
        "# Run on test data\n",
        "y_pred = svr.predict(X_test)\n",
        "print(\"MSE of the model = %1.4g\" % mse(y_test, y_pred))"
      ],
      "metadata": {
        "colab": {
          "base_uri": "https://localhost:8080/"
        },
        "id": "rgLiXjr8URoq",
        "outputId": "3cc7ba85-a902-41f1-f270-28d2221ebecd"
      },
      "execution_count": null,
      "outputs": [
        {
          "output_type": "stream",
          "name": "stdout",
          "text": [
            "MSE of the model = 0.01711\n"
          ]
        }
      ]
    },
    {
      "cell_type": "markdown",
      "source": [
        "# XGBRegressor"
      ],
      "metadata": {
        "id": "EA6VBjYkQXsz"
      }
    },
    {
      "cell_type": "code",
      "source": [
        "f = XGBRegressor(objective ='reg:linear', verbosity = 0,loss='squared_error', learning_rate=0.1, n_estimators=100,)\n",
        "f.fit(X_train, y_train) \n",
        "r_sq = f.score(X_train, y_train)\n",
        "scores = cross_val_score(f,X_train, y_train.ravel(), cv=10,scoring=make_scorer(mse)) \n",
        "print(\"MSE: %0.8f +/- %0.8f\" % (scores.mean(), scores.std()))"
      ],
      "metadata": {
        "colab": {
          "base_uri": "https://localhost:8080/"
        },
        "id": "JpMQR5mlKAwn",
        "outputId": "2ef3e89c-a5ee-480d-c4e5-bf35d8efcc95"
      },
      "execution_count": null,
      "outputs": [
        {
          "output_type": "stream",
          "name": "stdout",
          "text": [
            "MSE: 0.01498072 +/- 0.00170987\n"
          ]
        }
      ]
    },
    {
      "cell_type": "code",
      "source": [
        "scores = cross_val_score(f,X_train, y_train.ravel(), cv=10,scoring=make_scorer(r2)) \n",
        "print(\"R squared of the model %0.8f +/- %0.8f\" % (scores.mean(), scores.std()))"
      ],
      "metadata": {
        "colab": {
          "base_uri": "https://localhost:8080/"
        },
        "id": "J_gGF5iA8mZL",
        "outputId": "5aa321a7-1fa8-45d3-e14a-debd02cff1a8"
      },
      "execution_count": null,
      "outputs": [
        {
          "output_type": "stream",
          "name": "stdout",
          "text": [
            "R squared of the model 0.80807618 +/- 0.01994485\n"
          ]
        }
      ]
    },
    {
      "cell_type": "code",
      "source": [
        "# Run on test data\n",
        "y_pred = f.predict(X_test)\n",
        "print(\"MSE of the model = %1.4g\" % mse(y_test, y_pred))"
      ],
      "metadata": {
        "colab": {
          "base_uri": "https://localhost:8080/"
        },
        "id": "_P7hVZ-vVDtY",
        "outputId": "daa6f574-1b63-4e9e-e367-457c6c3beb07"
      },
      "execution_count": null,
      "outputs": [
        {
          "output_type": "stream",
          "name": "stdout",
          "text": [
            "MSE of the model = 0.01519\n"
          ]
        }
      ]
    },
    {
      "cell_type": "markdown",
      "source": [
        "# Prediction on Test Data\n",
        "\n",
        "\n",
        "\n"
      ],
      "metadata": {
        "id": "Ct8RwHAiJmCd"
      }
    },
    {
      "cell_type": "code",
      "source": [
        "test_data = pd.read_csv('CE802_P3_Test.csv')\n",
        "test_data.drop('Target', axis=1,inplace=True)"
      ],
      "metadata": {
        "id": "GdjvthtnLepN"
      },
      "execution_count": null,
      "outputs": []
    },
    {
      "cell_type": "code",
      "source": [
        "X = scale_X(test_data)"
      ],
      "metadata": {
        "id": "2icg-X49L4Gv"
      },
      "execution_count": null,
      "outputs": []
    },
    {
      "cell_type": "code",
      "source": [
        "y_test_data = f.predict(X)"
      ],
      "metadata": {
        "id": "ckzqYzfeMxrA"
      },
      "execution_count": null,
      "outputs": []
    },
    {
      "cell_type": "code",
      "source": [
        "y_test_data = y_transformer.inverse_transform(y_test_data.reshape(-1,1))"
      ],
      "metadata": {
        "id": "PX3vF2JIFytV"
      },
      "execution_count": null,
      "outputs": []
    },
    {
      "cell_type": "code",
      "source": [
        "test_data['Target'] = y_test_data"
      ],
      "metadata": {
        "id": "gORUwoxFOiNm"
      },
      "execution_count": null,
      "outputs": []
    },
    {
      "cell_type": "code",
      "source": [
        "test_data['Target'] = np.where(test_data['Target'] < 1, 0, test_data['Target'])"
      ],
      "metadata": {
        "id": "vXlLBHYJKqoQ"
      },
      "execution_count": null,
      "outputs": []
    },
    {
      "cell_type": "code",
      "source": [
        "test_data.head(5)"
      ],
      "metadata": {
        "colab": {
          "base_uri": "https://localhost:8080/",
          "height": 248
        },
        "id": "LIODGXJWS2Nr",
        "outputId": "68853481-7a4c-4a02-d48c-bd2b430bb812"
      },
      "execution_count": null,
      "outputs": [
        {
          "output_type": "execute_result",
          "data": {
            "text/plain": [
              "     F1    F2    F3    F4     F5      F6      F7      F8  F9      F10     F11  \\\n",
              "0  0.04 -0.21  3.68  1.54  -6.70 -929.34  234.18     USA   2  3391.35 -415.41   \n",
              "1  0.89  2.97  2.28  1.97  -4.52 -700.62  106.84    Rest   2  3479.19 -320.73   \n",
              "2  0.37 -0.17  7.14  0.40 -14.26 -796.14   32.30     USA   5   918.93 -379.44   \n",
              "3  5.37  0.07  7.18  6.81  -6.14 -801.03   32.92  Europe   2  2657.43 -491.28   \n",
              "4  0.26  6.16  3.54  1.10 -16.76 -652.08  227.98    Rest   4  2739.96 -378.48   \n",
              "\n",
              "   F12      F13    F14       F15       F16       Target  \n",
              "0    6 -1460.14 -20.55       Low  31369.98  1375.422363  \n",
              "1    2 -2301.76 -27.90       Low  29173.89    45.327217  \n",
              "2    4 -2589.08 -20.52  Very low  17248.26    73.783829  \n",
              "3    6 -1767.44 -25.81       Low  15450.54   118.493576  \n",
              "4   10 -1823.32 -23.11  Very low  35745.03  1103.311035  "
            ],
            "text/html": [
              "\n",
              "  <div id=\"df-3e105cf0-7dc6-4ee8-a16f-5c46e022c637\">\n",
              "    <div class=\"colab-df-container\">\n",
              "      <div>\n",
              "<style scoped>\n",
              "    .dataframe tbody tr th:only-of-type {\n",
              "        vertical-align: middle;\n",
              "    }\n",
              "\n",
              "    .dataframe tbody tr th {\n",
              "        vertical-align: top;\n",
              "    }\n",
              "\n",
              "    .dataframe thead th {\n",
              "        text-align: right;\n",
              "    }\n",
              "</style>\n",
              "<table border=\"1\" class=\"dataframe\">\n",
              "  <thead>\n",
              "    <tr style=\"text-align: right;\">\n",
              "      <th></th>\n",
              "      <th>F1</th>\n",
              "      <th>F2</th>\n",
              "      <th>F3</th>\n",
              "      <th>F4</th>\n",
              "      <th>F5</th>\n",
              "      <th>F6</th>\n",
              "      <th>F7</th>\n",
              "      <th>F8</th>\n",
              "      <th>F9</th>\n",
              "      <th>F10</th>\n",
              "      <th>F11</th>\n",
              "      <th>F12</th>\n",
              "      <th>F13</th>\n",
              "      <th>F14</th>\n",
              "      <th>F15</th>\n",
              "      <th>F16</th>\n",
              "      <th>Target</th>\n",
              "    </tr>\n",
              "  </thead>\n",
              "  <tbody>\n",
              "    <tr>\n",
              "      <th>0</th>\n",
              "      <td>0.04</td>\n",
              "      <td>-0.21</td>\n",
              "      <td>3.68</td>\n",
              "      <td>1.54</td>\n",
              "      <td>-6.70</td>\n",
              "      <td>-929.34</td>\n",
              "      <td>234.18</td>\n",
              "      <td>USA</td>\n",
              "      <td>2</td>\n",
              "      <td>3391.35</td>\n",
              "      <td>-415.41</td>\n",
              "      <td>6</td>\n",
              "      <td>-1460.14</td>\n",
              "      <td>-20.55</td>\n",
              "      <td>Low</td>\n",
              "      <td>31369.98</td>\n",
              "      <td>1375.422363</td>\n",
              "    </tr>\n",
              "    <tr>\n",
              "      <th>1</th>\n",
              "      <td>0.89</td>\n",
              "      <td>2.97</td>\n",
              "      <td>2.28</td>\n",
              "      <td>1.97</td>\n",
              "      <td>-4.52</td>\n",
              "      <td>-700.62</td>\n",
              "      <td>106.84</td>\n",
              "      <td>Rest</td>\n",
              "      <td>2</td>\n",
              "      <td>3479.19</td>\n",
              "      <td>-320.73</td>\n",
              "      <td>2</td>\n",
              "      <td>-2301.76</td>\n",
              "      <td>-27.90</td>\n",
              "      <td>Low</td>\n",
              "      <td>29173.89</td>\n",
              "      <td>45.327217</td>\n",
              "    </tr>\n",
              "    <tr>\n",
              "      <th>2</th>\n",
              "      <td>0.37</td>\n",
              "      <td>-0.17</td>\n",
              "      <td>7.14</td>\n",
              "      <td>0.40</td>\n",
              "      <td>-14.26</td>\n",
              "      <td>-796.14</td>\n",
              "      <td>32.30</td>\n",
              "      <td>USA</td>\n",
              "      <td>5</td>\n",
              "      <td>918.93</td>\n",
              "      <td>-379.44</td>\n",
              "      <td>4</td>\n",
              "      <td>-2589.08</td>\n",
              "      <td>-20.52</td>\n",
              "      <td>Very low</td>\n",
              "      <td>17248.26</td>\n",
              "      <td>73.783829</td>\n",
              "    </tr>\n",
              "    <tr>\n",
              "      <th>3</th>\n",
              "      <td>5.37</td>\n",
              "      <td>0.07</td>\n",
              "      <td>7.18</td>\n",
              "      <td>6.81</td>\n",
              "      <td>-6.14</td>\n",
              "      <td>-801.03</td>\n",
              "      <td>32.92</td>\n",
              "      <td>Europe</td>\n",
              "      <td>2</td>\n",
              "      <td>2657.43</td>\n",
              "      <td>-491.28</td>\n",
              "      <td>6</td>\n",
              "      <td>-1767.44</td>\n",
              "      <td>-25.81</td>\n",
              "      <td>Low</td>\n",
              "      <td>15450.54</td>\n",
              "      <td>118.493576</td>\n",
              "    </tr>\n",
              "    <tr>\n",
              "      <th>4</th>\n",
              "      <td>0.26</td>\n",
              "      <td>6.16</td>\n",
              "      <td>3.54</td>\n",
              "      <td>1.10</td>\n",
              "      <td>-16.76</td>\n",
              "      <td>-652.08</td>\n",
              "      <td>227.98</td>\n",
              "      <td>Rest</td>\n",
              "      <td>4</td>\n",
              "      <td>2739.96</td>\n",
              "      <td>-378.48</td>\n",
              "      <td>10</td>\n",
              "      <td>-1823.32</td>\n",
              "      <td>-23.11</td>\n",
              "      <td>Very low</td>\n",
              "      <td>35745.03</td>\n",
              "      <td>1103.311035</td>\n",
              "    </tr>\n",
              "  </tbody>\n",
              "</table>\n",
              "</div>\n",
              "      <button class=\"colab-df-convert\" onclick=\"convertToInteractive('df-3e105cf0-7dc6-4ee8-a16f-5c46e022c637')\"\n",
              "              title=\"Convert this dataframe to an interactive table.\"\n",
              "              style=\"display:none;\">\n",
              "        \n",
              "  <svg xmlns=\"http://www.w3.org/2000/svg\" height=\"24px\"viewBox=\"0 0 24 24\"\n",
              "       width=\"24px\">\n",
              "    <path d=\"M0 0h24v24H0V0z\" fill=\"none\"/>\n",
              "    <path d=\"M18.56 5.44l.94 2.06.94-2.06 2.06-.94-2.06-.94-.94-2.06-.94 2.06-2.06.94zm-11 1L8.5 8.5l.94-2.06 2.06-.94-2.06-.94L8.5 2.5l-.94 2.06-2.06.94zm10 10l.94 2.06.94-2.06 2.06-.94-2.06-.94-.94-2.06-.94 2.06-2.06.94z\"/><path d=\"M17.41 7.96l-1.37-1.37c-.4-.4-.92-.59-1.43-.59-.52 0-1.04.2-1.43.59L10.3 9.45l-7.72 7.72c-.78.78-.78 2.05 0 2.83L4 21.41c.39.39.9.59 1.41.59.51 0 1.02-.2 1.41-.59l7.78-7.78 2.81-2.81c.8-.78.8-2.07 0-2.86zM5.41 20L4 18.59l7.72-7.72 1.47 1.35L5.41 20z\"/>\n",
              "  </svg>\n",
              "      </button>\n",
              "      \n",
              "  <style>\n",
              "    .colab-df-container {\n",
              "      display:flex;\n",
              "      flex-wrap:wrap;\n",
              "      gap: 12px;\n",
              "    }\n",
              "\n",
              "    .colab-df-convert {\n",
              "      background-color: #E8F0FE;\n",
              "      border: none;\n",
              "      border-radius: 50%;\n",
              "      cursor: pointer;\n",
              "      display: none;\n",
              "      fill: #1967D2;\n",
              "      height: 32px;\n",
              "      padding: 0 0 0 0;\n",
              "      width: 32px;\n",
              "    }\n",
              "\n",
              "    .colab-df-convert:hover {\n",
              "      background-color: #E2EBFA;\n",
              "      box-shadow: 0px 1px 2px rgba(60, 64, 67, 0.3), 0px 1px 3px 1px rgba(60, 64, 67, 0.15);\n",
              "      fill: #174EA6;\n",
              "    }\n",
              "\n",
              "    [theme=dark] .colab-df-convert {\n",
              "      background-color: #3B4455;\n",
              "      fill: #D2E3FC;\n",
              "    }\n",
              "\n",
              "    [theme=dark] .colab-df-convert:hover {\n",
              "      background-color: #434B5C;\n",
              "      box-shadow: 0px 1px 3px 1px rgba(0, 0, 0, 0.15);\n",
              "      filter: drop-shadow(0px 1px 2px rgba(0, 0, 0, 0.3));\n",
              "      fill: #FFFFFF;\n",
              "    }\n",
              "  </style>\n",
              "\n",
              "      <script>\n",
              "        const buttonEl =\n",
              "          document.querySelector('#df-3e105cf0-7dc6-4ee8-a16f-5c46e022c637 button.colab-df-convert');\n",
              "        buttonEl.style.display =\n",
              "          google.colab.kernel.accessAllowed ? 'block' : 'none';\n",
              "\n",
              "        async function convertToInteractive(key) {\n",
              "          const element = document.querySelector('#df-3e105cf0-7dc6-4ee8-a16f-5c46e022c637');\n",
              "          const dataTable =\n",
              "            await google.colab.kernel.invokeFunction('convertToInteractive',\n",
              "                                                     [key], {});\n",
              "          if (!dataTable) return;\n",
              "\n",
              "          const docLinkHtml = 'Like what you see? Visit the ' +\n",
              "            '<a target=\"_blank\" href=https://colab.research.google.com/notebooks/data_table.ipynb>data table notebook</a>'\n",
              "            + ' to learn more about interactive tables.';\n",
              "          element.innerHTML = '';\n",
              "          dataTable['output_type'] = 'display_data';\n",
              "          await google.colab.output.renderOutput(dataTable, element);\n",
              "          const docLink = document.createElement('div');\n",
              "          docLink.innerHTML = docLinkHtml;\n",
              "          element.appendChild(docLink);\n",
              "        }\n",
              "      </script>\n",
              "    </div>\n",
              "  </div>\n",
              "  "
            ]
          },
          "metadata": {},
          "execution_count": 43
        }
      ]
    },
    {
      "cell_type": "code",
      "source": [
        "test_data.describe()"
      ],
      "metadata": {
        "colab": {
          "base_uri": "https://localhost:8080/",
          "height": 361
        },
        "id": "KOz8xEdoTMTm",
        "outputId": "93aed331-ab5f-41a5-82c8-c732817bcc17"
      },
      "execution_count": null,
      "outputs": [
        {
          "output_type": "execute_result",
          "data": {
            "text/plain": [
              "                 F1           F2           F3           F4           F5  \\\n",
              "count   1500.000000  1500.000000  1500.000000  1500.000000  1500.000000   \n",
              "mean      92.631293    -0.217887     7.893467     4.012280    -8.590133   \n",
              "std     1121.181669     3.089368     5.597540     2.838905     6.039309   \n",
              "min        0.000000    -9.990000     0.180000     0.040000   -26.360000   \n",
              "25%        0.120000    -2.280000     3.760000     1.920000   -12.665000   \n",
              "50%        0.900000    -0.140000     6.640000     3.370000    -8.560000   \n",
              "75%        7.287500     1.922500    10.685000     5.492500    -4.535000   \n",
              "max    36231.960000    10.860000    35.220000    18.000000    10.640000   \n",
              "\n",
              "                F6           F7           F9          F10          F11  \\\n",
              "count  1500.000000  1500.000000  1500.000000  1500.000000  1500.000000   \n",
              "mean   -823.252360   122.909600     3.988667  1325.620080  -342.326460   \n",
              "std     133.654869    61.036702     1.826498   912.540536    89.563773   \n",
              "min   -1392.300000   -76.700000     0.000000 -1624.260000  -631.050000   \n",
              "25%    -887.437500    81.985000     3.000000   725.055000  -400.387500   \n",
              "50%    -820.665000   120.920000     4.000000  1332.810000  -345.285000   \n",
              "75%    -752.430000   161.620000     5.000000  1942.222500  -280.462500   \n",
              "max    -194.850000   343.120000    11.000000  4899.360000   -77.130000   \n",
              "\n",
              "               F12          F13          F14            F16       Target  \n",
              "count  1500.000000  1500.000000  1500.000000    1500.000000  1500.000000  \n",
              "mean      8.064000 -2174.573973   -20.052467   23827.180620   945.813416  \n",
              "std       3.594698   603.536637     4.522690   12220.887106   793.351624  \n",
              "min       0.000000 -4100.080000   -42.890000  -34401.990000     0.000000  \n",
              "25%       6.000000 -2578.855000   -22.162500   17798.430000   294.044662  \n",
              "50%       8.000000 -2186.110000   -20.010000   24062.070000   804.124634  \n",
              "75%      10.000000 -1788.420000   -17.940000   29911.995000  1443.131256  \n",
              "max      20.000000   -38.100000     5.430000  100023.240000  4110.854492  "
            ],
            "text/html": [
              "\n",
              "  <div id=\"df-82fae3d1-3874-4569-a0d8-2575443d31c4\">\n",
              "    <div class=\"colab-df-container\">\n",
              "      <div>\n",
              "<style scoped>\n",
              "    .dataframe tbody tr th:only-of-type {\n",
              "        vertical-align: middle;\n",
              "    }\n",
              "\n",
              "    .dataframe tbody tr th {\n",
              "        vertical-align: top;\n",
              "    }\n",
              "\n",
              "    .dataframe thead th {\n",
              "        text-align: right;\n",
              "    }\n",
              "</style>\n",
              "<table border=\"1\" class=\"dataframe\">\n",
              "  <thead>\n",
              "    <tr style=\"text-align: right;\">\n",
              "      <th></th>\n",
              "      <th>F1</th>\n",
              "      <th>F2</th>\n",
              "      <th>F3</th>\n",
              "      <th>F4</th>\n",
              "      <th>F5</th>\n",
              "      <th>F6</th>\n",
              "      <th>F7</th>\n",
              "      <th>F9</th>\n",
              "      <th>F10</th>\n",
              "      <th>F11</th>\n",
              "      <th>F12</th>\n",
              "      <th>F13</th>\n",
              "      <th>F14</th>\n",
              "      <th>F16</th>\n",
              "      <th>Target</th>\n",
              "    </tr>\n",
              "  </thead>\n",
              "  <tbody>\n",
              "    <tr>\n",
              "      <th>count</th>\n",
              "      <td>1500.000000</td>\n",
              "      <td>1500.000000</td>\n",
              "      <td>1500.000000</td>\n",
              "      <td>1500.000000</td>\n",
              "      <td>1500.000000</td>\n",
              "      <td>1500.000000</td>\n",
              "      <td>1500.000000</td>\n",
              "      <td>1500.000000</td>\n",
              "      <td>1500.000000</td>\n",
              "      <td>1500.000000</td>\n",
              "      <td>1500.000000</td>\n",
              "      <td>1500.000000</td>\n",
              "      <td>1500.000000</td>\n",
              "      <td>1500.000000</td>\n",
              "      <td>1500.000000</td>\n",
              "    </tr>\n",
              "    <tr>\n",
              "      <th>mean</th>\n",
              "      <td>92.631293</td>\n",
              "      <td>-0.217887</td>\n",
              "      <td>7.893467</td>\n",
              "      <td>4.012280</td>\n",
              "      <td>-8.590133</td>\n",
              "      <td>-823.252360</td>\n",
              "      <td>122.909600</td>\n",
              "      <td>3.988667</td>\n",
              "      <td>1325.620080</td>\n",
              "      <td>-342.326460</td>\n",
              "      <td>8.064000</td>\n",
              "      <td>-2174.573973</td>\n",
              "      <td>-20.052467</td>\n",
              "      <td>23827.180620</td>\n",
              "      <td>945.813416</td>\n",
              "    </tr>\n",
              "    <tr>\n",
              "      <th>std</th>\n",
              "      <td>1121.181669</td>\n",
              "      <td>3.089368</td>\n",
              "      <td>5.597540</td>\n",
              "      <td>2.838905</td>\n",
              "      <td>6.039309</td>\n",
              "      <td>133.654869</td>\n",
              "      <td>61.036702</td>\n",
              "      <td>1.826498</td>\n",
              "      <td>912.540536</td>\n",
              "      <td>89.563773</td>\n",
              "      <td>3.594698</td>\n",
              "      <td>603.536637</td>\n",
              "      <td>4.522690</td>\n",
              "      <td>12220.887106</td>\n",
              "      <td>793.351624</td>\n",
              "    </tr>\n",
              "    <tr>\n",
              "      <th>min</th>\n",
              "      <td>0.000000</td>\n",
              "      <td>-9.990000</td>\n",
              "      <td>0.180000</td>\n",
              "      <td>0.040000</td>\n",
              "      <td>-26.360000</td>\n",
              "      <td>-1392.300000</td>\n",
              "      <td>-76.700000</td>\n",
              "      <td>0.000000</td>\n",
              "      <td>-1624.260000</td>\n",
              "      <td>-631.050000</td>\n",
              "      <td>0.000000</td>\n",
              "      <td>-4100.080000</td>\n",
              "      <td>-42.890000</td>\n",
              "      <td>-34401.990000</td>\n",
              "      <td>0.000000</td>\n",
              "    </tr>\n",
              "    <tr>\n",
              "      <th>25%</th>\n",
              "      <td>0.120000</td>\n",
              "      <td>-2.280000</td>\n",
              "      <td>3.760000</td>\n",
              "      <td>1.920000</td>\n",
              "      <td>-12.665000</td>\n",
              "      <td>-887.437500</td>\n",
              "      <td>81.985000</td>\n",
              "      <td>3.000000</td>\n",
              "      <td>725.055000</td>\n",
              "      <td>-400.387500</td>\n",
              "      <td>6.000000</td>\n",
              "      <td>-2578.855000</td>\n",
              "      <td>-22.162500</td>\n",
              "      <td>17798.430000</td>\n",
              "      <td>294.044662</td>\n",
              "    </tr>\n",
              "    <tr>\n",
              "      <th>50%</th>\n",
              "      <td>0.900000</td>\n",
              "      <td>-0.140000</td>\n",
              "      <td>6.640000</td>\n",
              "      <td>3.370000</td>\n",
              "      <td>-8.560000</td>\n",
              "      <td>-820.665000</td>\n",
              "      <td>120.920000</td>\n",
              "      <td>4.000000</td>\n",
              "      <td>1332.810000</td>\n",
              "      <td>-345.285000</td>\n",
              "      <td>8.000000</td>\n",
              "      <td>-2186.110000</td>\n",
              "      <td>-20.010000</td>\n",
              "      <td>24062.070000</td>\n",
              "      <td>804.124634</td>\n",
              "    </tr>\n",
              "    <tr>\n",
              "      <th>75%</th>\n",
              "      <td>7.287500</td>\n",
              "      <td>1.922500</td>\n",
              "      <td>10.685000</td>\n",
              "      <td>5.492500</td>\n",
              "      <td>-4.535000</td>\n",
              "      <td>-752.430000</td>\n",
              "      <td>161.620000</td>\n",
              "      <td>5.000000</td>\n",
              "      <td>1942.222500</td>\n",
              "      <td>-280.462500</td>\n",
              "      <td>10.000000</td>\n",
              "      <td>-1788.420000</td>\n",
              "      <td>-17.940000</td>\n",
              "      <td>29911.995000</td>\n",
              "      <td>1443.131256</td>\n",
              "    </tr>\n",
              "    <tr>\n",
              "      <th>max</th>\n",
              "      <td>36231.960000</td>\n",
              "      <td>10.860000</td>\n",
              "      <td>35.220000</td>\n",
              "      <td>18.000000</td>\n",
              "      <td>10.640000</td>\n",
              "      <td>-194.850000</td>\n",
              "      <td>343.120000</td>\n",
              "      <td>11.000000</td>\n",
              "      <td>4899.360000</td>\n",
              "      <td>-77.130000</td>\n",
              "      <td>20.000000</td>\n",
              "      <td>-38.100000</td>\n",
              "      <td>5.430000</td>\n",
              "      <td>100023.240000</td>\n",
              "      <td>4110.854492</td>\n",
              "    </tr>\n",
              "  </tbody>\n",
              "</table>\n",
              "</div>\n",
              "      <button class=\"colab-df-convert\" onclick=\"convertToInteractive('df-82fae3d1-3874-4569-a0d8-2575443d31c4')\"\n",
              "              title=\"Convert this dataframe to an interactive table.\"\n",
              "              style=\"display:none;\">\n",
              "        \n",
              "  <svg xmlns=\"http://www.w3.org/2000/svg\" height=\"24px\"viewBox=\"0 0 24 24\"\n",
              "       width=\"24px\">\n",
              "    <path d=\"M0 0h24v24H0V0z\" fill=\"none\"/>\n",
              "    <path d=\"M18.56 5.44l.94 2.06.94-2.06 2.06-.94-2.06-.94-.94-2.06-.94 2.06-2.06.94zm-11 1L8.5 8.5l.94-2.06 2.06-.94-2.06-.94L8.5 2.5l-.94 2.06-2.06.94zm10 10l.94 2.06.94-2.06 2.06-.94-2.06-.94-.94-2.06-.94 2.06-2.06.94z\"/><path d=\"M17.41 7.96l-1.37-1.37c-.4-.4-.92-.59-1.43-.59-.52 0-1.04.2-1.43.59L10.3 9.45l-7.72 7.72c-.78.78-.78 2.05 0 2.83L4 21.41c.39.39.9.59 1.41.59.51 0 1.02-.2 1.41-.59l7.78-7.78 2.81-2.81c.8-.78.8-2.07 0-2.86zM5.41 20L4 18.59l7.72-7.72 1.47 1.35L5.41 20z\"/>\n",
              "  </svg>\n",
              "      </button>\n",
              "      \n",
              "  <style>\n",
              "    .colab-df-container {\n",
              "      display:flex;\n",
              "      flex-wrap:wrap;\n",
              "      gap: 12px;\n",
              "    }\n",
              "\n",
              "    .colab-df-convert {\n",
              "      background-color: #E8F0FE;\n",
              "      border: none;\n",
              "      border-radius: 50%;\n",
              "      cursor: pointer;\n",
              "      display: none;\n",
              "      fill: #1967D2;\n",
              "      height: 32px;\n",
              "      padding: 0 0 0 0;\n",
              "      width: 32px;\n",
              "    }\n",
              "\n",
              "    .colab-df-convert:hover {\n",
              "      background-color: #E2EBFA;\n",
              "      box-shadow: 0px 1px 2px rgba(60, 64, 67, 0.3), 0px 1px 3px 1px rgba(60, 64, 67, 0.15);\n",
              "      fill: #174EA6;\n",
              "    }\n",
              "\n",
              "    [theme=dark] .colab-df-convert {\n",
              "      background-color: #3B4455;\n",
              "      fill: #D2E3FC;\n",
              "    }\n",
              "\n",
              "    [theme=dark] .colab-df-convert:hover {\n",
              "      background-color: #434B5C;\n",
              "      box-shadow: 0px 1px 3px 1px rgba(0, 0, 0, 0.15);\n",
              "      filter: drop-shadow(0px 1px 2px rgba(0, 0, 0, 0.3));\n",
              "      fill: #FFFFFF;\n",
              "    }\n",
              "  </style>\n",
              "\n",
              "      <script>\n",
              "        const buttonEl =\n",
              "          document.querySelector('#df-82fae3d1-3874-4569-a0d8-2575443d31c4 button.colab-df-convert');\n",
              "        buttonEl.style.display =\n",
              "          google.colab.kernel.accessAllowed ? 'block' : 'none';\n",
              "\n",
              "        async function convertToInteractive(key) {\n",
              "          const element = document.querySelector('#df-82fae3d1-3874-4569-a0d8-2575443d31c4');\n",
              "          const dataTable =\n",
              "            await google.colab.kernel.invokeFunction('convertToInteractive',\n",
              "                                                     [key], {});\n",
              "          if (!dataTable) return;\n",
              "\n",
              "          const docLinkHtml = 'Like what you see? Visit the ' +\n",
              "            '<a target=\"_blank\" href=https://colab.research.google.com/notebooks/data_table.ipynb>data table notebook</a>'\n",
              "            + ' to learn more about interactive tables.';\n",
              "          element.innerHTML = '';\n",
              "          dataTable['output_type'] = 'display_data';\n",
              "          await google.colab.output.renderOutput(dataTable, element);\n",
              "          const docLink = document.createElement('div');\n",
              "          docLink.innerHTML = docLinkHtml;\n",
              "          element.appendChild(docLink);\n",
              "        }\n",
              "      </script>\n",
              "    </div>\n",
              "  </div>\n",
              "  "
            ]
          },
          "metadata": {},
          "execution_count": 44
        }
      ]
    },
    {
      "cell_type": "code",
      "source": [
        "#save predictions to csv\n",
        "test_data.to_csv('CE802_P3_Test.csv')"
      ],
      "metadata": {
        "id": "9QZ4gQHaUngj"
      },
      "execution_count": null,
      "outputs": []
    }
  ]
}