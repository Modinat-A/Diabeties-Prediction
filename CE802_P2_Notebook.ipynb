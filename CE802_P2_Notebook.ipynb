{
  "nbformat": 4,
  "nbformat_minor": 0,
  "metadata": {
    "colab": {
      "name": "CE802_P2_Notebook.ipynb",
      "provenance": [],
      "authorship_tag": "ABX9TyNAgSV0tBFOghRaJXNztZpS",
      "include_colab_link": true
    },
    "kernelspec": {
      "name": "python3",
      "display_name": "Python 3"
    },
    "language_info": {
      "name": "python"
    }
  },
  "cells": [
    {
      "cell_type": "markdown",
      "metadata": {
        "id": "view-in-github",
        "colab_type": "text"
      },
      "source": [
        "<a href=\"https://colab.research.google.com/github/Modinat-A/Diabeties-Prediction/blob/main/CE802_P2_Notebook.ipynb\" target=\"_parent\"><img src=\"https://colab.research.google.com/assets/colab-badge.svg\" alt=\"Open In Colab\"/></a>"
      ]
    },
    {
      "cell_type": "markdown",
      "source": [
        "# Comparative analysis of Classifers "
      ],
      "metadata": {
        "id": "J_cnZkOP_r1i"
      }
    },
    {
      "cell_type": "code",
      "execution_count": null,
      "metadata": {
        "id": "yi8gw-0xLCxu"
      },
      "outputs": [],
      "source": [
        "%matplotlib inline\n",
        "import matplotlib\n",
        "import numpy as np\n",
        "import matplotlib.pyplot as plt\n",
        "import pandas as pd\n",
        "import seaborn as sns\n",
        "import sklearn\n",
        "import itertools\n",
        "import sklearn as skl\n",
        "from sklearn.model_selection import train_test_split, StratifiedShuffleSplit, cross_val_score\n",
        "from sklearn.tree import DecisionTreeRegressor,DecisionTreeClassifier\n",
        "from sklearn.ensemble import RandomForestRegressor, GradientBoostingRegressor, RandomForestClassifier, ExtraTreesClassifier\n",
        "from sklearn.linear_model import SGDRegressor, BayesianRidge\n",
        "from sklearn.metrics import mean_squared_error as mse\n",
        "from sklearn.metrics import mean_absolute_error as mae\n",
        "from sklearn.metrics import accuracy_score as acc\n",
        "from sklearn.metrics import f1_score as f1\n",
        "from sklearn.metrics import make_scorer, confusion_matrix\n",
        "from sklearn.dummy import DummyRegressor, DummyClassifier\n",
        "from sklearn.preprocessing import MinMaxScaler\n",
        "import pickle as pkl"
      ]
    },
    {
      "cell_type": "code",
      "source": [
        "df= pd.read_csv('CE802_P2_Data.csv')"
      ],
      "metadata": {
        "id": "AmPw8GpvLMnv"
      },
      "execution_count": null,
      "outputs": []
    },
    {
      "cell_type": "code",
      "source": [
        "df.describe()"
      ],
      "metadata": {
        "colab": {
          "base_uri": "https://localhost:8080/",
          "height": 361
        },
        "id": "iGjC98ieCcyO",
        "outputId": "2854a9fd-0ec1-43f2-8cb7-c2b21a4a1c6d"
      },
      "execution_count": null,
      "outputs": [
        {
          "output_type": "execute_result",
          "data": {
            "text/plain": [
              "                F1           F2           F3           F4           F5  \\\n",
              "count  1500.000000  1500.000000  1500.000000  1500.000000  1500.000000   \n",
              "mean     -4.569780   -20.474600   109.024667    12.744707    -6.248787   \n",
              "std       7.662813     7.635517   117.334580     2.217929     2.540644   \n",
              "min     -29.760000   -45.570000     0.000000     8.020000   -15.280000   \n",
              "25%     -10.260000   -26.130000    15.000000    11.440000    -8.130000   \n",
              "50%      -7.560000   -23.445000    50.000000    12.440000    -7.230000   \n",
              "75%       2.917500   -13.110000   195.000000    13.900000    -3.770000   \n",
              "max       8.850000    -6.780000   390.000000    21.220000    -1.590000   \n",
              "\n",
              "               F6           F7          F8           F9          F10  \\\n",
              "count  1500.00000  1500.000000  1500.00000  1500.000000  1500.000000   \n",
              "mean     14.90628    13.107813   -42.25600  -557.610667    10.806667   \n",
              "std      12.97563     3.166909    14.31863   142.833748     9.009814   \n",
              "min       0.00000     9.420000   -76.98000  -888.720000     0.000000   \n",
              "25%       3.72000    10.140000   -56.98000  -678.720000     2.000000   \n",
              "50%       6.21000    10.500000   -34.98000  -486.720000     2.000000   \n",
              "75%      24.60000    15.870000   -30.98000  -446.720000    20.000000   \n",
              "max      47.10000    19.570000   -24.98000  -398.720000    20.000000   \n",
              "\n",
              "               F11          F12          F13          F14         F15  \n",
              "count  1500.000000  1500.000000  1500.000000  1500.000000  750.000000  \n",
              "mean      3.878840   108.488000     3.854280     0.147533    5.783013  \n",
              "std       7.541549    80.376896     3.465276     2.491236    1.005117  \n",
              "min     -19.110000  -120.340000     0.000000    -4.360000    3.060000  \n",
              "25%      -1.950000    71.660000     0.600000    -2.230000    5.062500  \n",
              "50%       0.930000    97.660000     1.020000     1.100000    5.790000  \n",
              "75%      11.100000   139.660000     7.050000     1.982500    6.530000  \n",
              "max      17.310000   309.660000    10.350000     7.880000    8.140000  "
            ],
            "text/html": [
              "\n",
              "  <div id=\"df-8c6be5e2-c8e5-49dc-a119-5bc2f9b85235\">\n",
              "    <div class=\"colab-df-container\">\n",
              "      <div>\n",
              "<style scoped>\n",
              "    .dataframe tbody tr th:only-of-type {\n",
              "        vertical-align: middle;\n",
              "    }\n",
              "\n",
              "    .dataframe tbody tr th {\n",
              "        vertical-align: top;\n",
              "    }\n",
              "\n",
              "    .dataframe thead th {\n",
              "        text-align: right;\n",
              "    }\n",
              "</style>\n",
              "<table border=\"1\" class=\"dataframe\">\n",
              "  <thead>\n",
              "    <tr style=\"text-align: right;\">\n",
              "      <th></th>\n",
              "      <th>F1</th>\n",
              "      <th>F2</th>\n",
              "      <th>F3</th>\n",
              "      <th>F4</th>\n",
              "      <th>F5</th>\n",
              "      <th>F6</th>\n",
              "      <th>F7</th>\n",
              "      <th>F8</th>\n",
              "      <th>F9</th>\n",
              "      <th>F10</th>\n",
              "      <th>F11</th>\n",
              "      <th>F12</th>\n",
              "      <th>F13</th>\n",
              "      <th>F14</th>\n",
              "      <th>F15</th>\n",
              "    </tr>\n",
              "  </thead>\n",
              "  <tbody>\n",
              "    <tr>\n",
              "      <th>count</th>\n",
              "      <td>1500.000000</td>\n",
              "      <td>1500.000000</td>\n",
              "      <td>1500.000000</td>\n",
              "      <td>1500.000000</td>\n",
              "      <td>1500.000000</td>\n",
              "      <td>1500.00000</td>\n",
              "      <td>1500.000000</td>\n",
              "      <td>1500.00000</td>\n",
              "      <td>1500.000000</td>\n",
              "      <td>1500.000000</td>\n",
              "      <td>1500.000000</td>\n",
              "      <td>1500.000000</td>\n",
              "      <td>1500.000000</td>\n",
              "      <td>1500.000000</td>\n",
              "      <td>750.000000</td>\n",
              "    </tr>\n",
              "    <tr>\n",
              "      <th>mean</th>\n",
              "      <td>-4.569780</td>\n",
              "      <td>-20.474600</td>\n",
              "      <td>109.024667</td>\n",
              "      <td>12.744707</td>\n",
              "      <td>-6.248787</td>\n",
              "      <td>14.90628</td>\n",
              "      <td>13.107813</td>\n",
              "      <td>-42.25600</td>\n",
              "      <td>-557.610667</td>\n",
              "      <td>10.806667</td>\n",
              "      <td>3.878840</td>\n",
              "      <td>108.488000</td>\n",
              "      <td>3.854280</td>\n",
              "      <td>0.147533</td>\n",
              "      <td>5.783013</td>\n",
              "    </tr>\n",
              "    <tr>\n",
              "      <th>std</th>\n",
              "      <td>7.662813</td>\n",
              "      <td>7.635517</td>\n",
              "      <td>117.334580</td>\n",
              "      <td>2.217929</td>\n",
              "      <td>2.540644</td>\n",
              "      <td>12.97563</td>\n",
              "      <td>3.166909</td>\n",
              "      <td>14.31863</td>\n",
              "      <td>142.833748</td>\n",
              "      <td>9.009814</td>\n",
              "      <td>7.541549</td>\n",
              "      <td>80.376896</td>\n",
              "      <td>3.465276</td>\n",
              "      <td>2.491236</td>\n",
              "      <td>1.005117</td>\n",
              "    </tr>\n",
              "    <tr>\n",
              "      <th>min</th>\n",
              "      <td>-29.760000</td>\n",
              "      <td>-45.570000</td>\n",
              "      <td>0.000000</td>\n",
              "      <td>8.020000</td>\n",
              "      <td>-15.280000</td>\n",
              "      <td>0.00000</td>\n",
              "      <td>9.420000</td>\n",
              "      <td>-76.98000</td>\n",
              "      <td>-888.720000</td>\n",
              "      <td>0.000000</td>\n",
              "      <td>-19.110000</td>\n",
              "      <td>-120.340000</td>\n",
              "      <td>0.000000</td>\n",
              "      <td>-4.360000</td>\n",
              "      <td>3.060000</td>\n",
              "    </tr>\n",
              "    <tr>\n",
              "      <th>25%</th>\n",
              "      <td>-10.260000</td>\n",
              "      <td>-26.130000</td>\n",
              "      <td>15.000000</td>\n",
              "      <td>11.440000</td>\n",
              "      <td>-8.130000</td>\n",
              "      <td>3.72000</td>\n",
              "      <td>10.140000</td>\n",
              "      <td>-56.98000</td>\n",
              "      <td>-678.720000</td>\n",
              "      <td>2.000000</td>\n",
              "      <td>-1.950000</td>\n",
              "      <td>71.660000</td>\n",
              "      <td>0.600000</td>\n",
              "      <td>-2.230000</td>\n",
              "      <td>5.062500</td>\n",
              "    </tr>\n",
              "    <tr>\n",
              "      <th>50%</th>\n",
              "      <td>-7.560000</td>\n",
              "      <td>-23.445000</td>\n",
              "      <td>50.000000</td>\n",
              "      <td>12.440000</td>\n",
              "      <td>-7.230000</td>\n",
              "      <td>6.21000</td>\n",
              "      <td>10.500000</td>\n",
              "      <td>-34.98000</td>\n",
              "      <td>-486.720000</td>\n",
              "      <td>2.000000</td>\n",
              "      <td>0.930000</td>\n",
              "      <td>97.660000</td>\n",
              "      <td>1.020000</td>\n",
              "      <td>1.100000</td>\n",
              "      <td>5.790000</td>\n",
              "    </tr>\n",
              "    <tr>\n",
              "      <th>75%</th>\n",
              "      <td>2.917500</td>\n",
              "      <td>-13.110000</td>\n",
              "      <td>195.000000</td>\n",
              "      <td>13.900000</td>\n",
              "      <td>-3.770000</td>\n",
              "      <td>24.60000</td>\n",
              "      <td>15.870000</td>\n",
              "      <td>-30.98000</td>\n",
              "      <td>-446.720000</td>\n",
              "      <td>20.000000</td>\n",
              "      <td>11.100000</td>\n",
              "      <td>139.660000</td>\n",
              "      <td>7.050000</td>\n",
              "      <td>1.982500</td>\n",
              "      <td>6.530000</td>\n",
              "    </tr>\n",
              "    <tr>\n",
              "      <th>max</th>\n",
              "      <td>8.850000</td>\n",
              "      <td>-6.780000</td>\n",
              "      <td>390.000000</td>\n",
              "      <td>21.220000</td>\n",
              "      <td>-1.590000</td>\n",
              "      <td>47.10000</td>\n",
              "      <td>19.570000</td>\n",
              "      <td>-24.98000</td>\n",
              "      <td>-398.720000</td>\n",
              "      <td>20.000000</td>\n",
              "      <td>17.310000</td>\n",
              "      <td>309.660000</td>\n",
              "      <td>10.350000</td>\n",
              "      <td>7.880000</td>\n",
              "      <td>8.140000</td>\n",
              "    </tr>\n",
              "  </tbody>\n",
              "</table>\n",
              "</div>\n",
              "      <button class=\"colab-df-convert\" onclick=\"convertToInteractive('df-8c6be5e2-c8e5-49dc-a119-5bc2f9b85235')\"\n",
              "              title=\"Convert this dataframe to an interactive table.\"\n",
              "              style=\"display:none;\">\n",
              "        \n",
              "  <svg xmlns=\"http://www.w3.org/2000/svg\" height=\"24px\"viewBox=\"0 0 24 24\"\n",
              "       width=\"24px\">\n",
              "    <path d=\"M0 0h24v24H0V0z\" fill=\"none\"/>\n",
              "    <path d=\"M18.56 5.44l.94 2.06.94-2.06 2.06-.94-2.06-.94-.94-2.06-.94 2.06-2.06.94zm-11 1L8.5 8.5l.94-2.06 2.06-.94-2.06-.94L8.5 2.5l-.94 2.06-2.06.94zm10 10l.94 2.06.94-2.06 2.06-.94-2.06-.94-.94-2.06-.94 2.06-2.06.94z\"/><path d=\"M17.41 7.96l-1.37-1.37c-.4-.4-.92-.59-1.43-.59-.52 0-1.04.2-1.43.59L10.3 9.45l-7.72 7.72c-.78.78-.78 2.05 0 2.83L4 21.41c.39.39.9.59 1.41.59.51 0 1.02-.2 1.41-.59l7.78-7.78 2.81-2.81c.8-.78.8-2.07 0-2.86zM5.41 20L4 18.59l7.72-7.72 1.47 1.35L5.41 20z\"/>\n",
              "  </svg>\n",
              "      </button>\n",
              "      \n",
              "  <style>\n",
              "    .colab-df-container {\n",
              "      display:flex;\n",
              "      flex-wrap:wrap;\n",
              "      gap: 12px;\n",
              "    }\n",
              "\n",
              "    .colab-df-convert {\n",
              "      background-color: #E8F0FE;\n",
              "      border: none;\n",
              "      border-radius: 50%;\n",
              "      cursor: pointer;\n",
              "      display: none;\n",
              "      fill: #1967D2;\n",
              "      height: 32px;\n",
              "      padding: 0 0 0 0;\n",
              "      width: 32px;\n",
              "    }\n",
              "\n",
              "    .colab-df-convert:hover {\n",
              "      background-color: #E2EBFA;\n",
              "      box-shadow: 0px 1px 2px rgba(60, 64, 67, 0.3), 0px 1px 3px 1px rgba(60, 64, 67, 0.15);\n",
              "      fill: #174EA6;\n",
              "    }\n",
              "\n",
              "    [theme=dark] .colab-df-convert {\n",
              "      background-color: #3B4455;\n",
              "      fill: #D2E3FC;\n",
              "    }\n",
              "\n",
              "    [theme=dark] .colab-df-convert:hover {\n",
              "      background-color: #434B5C;\n",
              "      box-shadow: 0px 1px 3px 1px rgba(0, 0, 0, 0.15);\n",
              "      filter: drop-shadow(0px 1px 2px rgba(0, 0, 0, 0.3));\n",
              "      fill: #FFFFFF;\n",
              "    }\n",
              "  </style>\n",
              "\n",
              "      <script>\n",
              "        const buttonEl =\n",
              "          document.querySelector('#df-8c6be5e2-c8e5-49dc-a119-5bc2f9b85235 button.colab-df-convert');\n",
              "        buttonEl.style.display =\n",
              "          google.colab.kernel.accessAllowed ? 'block' : 'none';\n",
              "\n",
              "        async function convertToInteractive(key) {\n",
              "          const element = document.querySelector('#df-8c6be5e2-c8e5-49dc-a119-5bc2f9b85235');\n",
              "          const dataTable =\n",
              "            await google.colab.kernel.invokeFunction('convertToInteractive',\n",
              "                                                     [key], {});\n",
              "          if (!dataTable) return;\n",
              "\n",
              "          const docLinkHtml = 'Like what you see? Visit the ' +\n",
              "            '<a target=\"_blank\" href=https://colab.research.google.com/notebooks/data_table.ipynb>data table notebook</a>'\n",
              "            + ' to learn more about interactive tables.';\n",
              "          element.innerHTML = '';\n",
              "          dataTable['output_type'] = 'display_data';\n",
              "          await google.colab.output.renderOutput(dataTable, element);\n",
              "          const docLink = document.createElement('div');\n",
              "          docLink.innerHTML = docLinkHtml;\n",
              "          element.appendChild(docLink);\n",
              "        }\n",
              "      </script>\n",
              "    </div>\n",
              "  </div>\n",
              "  "
            ]
          },
          "metadata": {},
          "execution_count": 65
        }
      ]
    },
    {
      "cell_type": "code",
      "source": [
        "df.info()"
      ],
      "metadata": {
        "id": "k_iJcNR2LTm5",
        "colab": {
          "base_uri": "https://localhost:8080/"
        },
        "outputId": "45727f81-acf8-4d9b-d954-76dc27a71344"
      },
      "execution_count": null,
      "outputs": [
        {
          "output_type": "stream",
          "name": "stdout",
          "text": [
            "<class 'pandas.core.frame.DataFrame'>\n",
            "RangeIndex: 1500 entries, 0 to 1499\n",
            "Data columns (total 16 columns):\n",
            " #   Column  Non-Null Count  Dtype  \n",
            "---  ------  --------------  -----  \n",
            " 0   F1      1500 non-null   float64\n",
            " 1   F2      1500 non-null   float64\n",
            " 2   F3      1500 non-null   int64  \n",
            " 3   F4      1500 non-null   float64\n",
            " 4   F5      1500 non-null   float64\n",
            " 5   F6      1500 non-null   float64\n",
            " 6   F7      1500 non-null   float64\n",
            " 7   F8      1500 non-null   float64\n",
            " 8   F9      1500 non-null   float64\n",
            " 9   F10     1500 non-null   int64  \n",
            " 10  F11     1500 non-null   float64\n",
            " 11  F12     1500 non-null   float64\n",
            " 12  F13     1500 non-null   float64\n",
            " 13  F14     1500 non-null   float64\n",
            " 14  F15     750 non-null    float64\n",
            " 15  Class   1500 non-null   bool   \n",
            "dtypes: bool(1), float64(13), int64(2)\n",
            "memory usage: 177.4 KB\n"
          ]
        }
      ]
    },
    {
      "cell_type": "code",
      "source": [
        "# check if data is balanced\n",
        "df['Class'].value_counts()"
      ],
      "metadata": {
        "colab": {
          "base_uri": "https://localhost:8080/"
        },
        "id": "TWGVosx1LYro",
        "outputId": "209eb640-ad72-4dbf-dbb4-c9c924716db4"
      },
      "execution_count": null,
      "outputs": [
        {
          "output_type": "execute_result",
          "data": {
            "text/plain": [
              "False    809\n",
              "True     691\n",
              "Name: Class, dtype: int64"
            ]
          },
          "metadata": {},
          "execution_count": 4
        }
      ]
    },
    {
      "cell_type": "code",
      "source": [
        "# Check number of null values in columns\n",
        "df.isnull().sum()"
      ],
      "metadata": {
        "id": "lRnnsYLT1o5s",
        "colab": {
          "base_uri": "https://localhost:8080/"
        },
        "outputId": "9a3c0c51-c130-4d04-c9bf-9ed73f83de16"
      },
      "execution_count": null,
      "outputs": [
        {
          "output_type": "execute_result",
          "data": {
            "text/plain": [
              "F1         0\n",
              "F2         0\n",
              "F3         0\n",
              "F4         0\n",
              "F5         0\n",
              "F6         0\n",
              "F7         0\n",
              "F8         0\n",
              "F9         0\n",
              "F10        0\n",
              "F11        0\n",
              "F12        0\n",
              "F13        0\n",
              "F14        0\n",
              "F15      750\n",
              "Class      0\n",
              "dtype: int64"
            ]
          },
          "metadata": {},
          "execution_count": 5
        }
      ]
    },
    {
      "cell_type": "code",
      "source": [
        "cleanup = {\"Class\": {True:1,False:0}}\n",
        "df.replace(cleanup, inplace=True)"
      ],
      "metadata": {
        "id": "rgU26GknqLql"
      },
      "execution_count": null,
      "outputs": []
    },
    {
      "cell_type": "code",
      "source": [
        "df.drop('F15', axis=1,inplace=True)"
      ],
      "metadata": {
        "id": "aWH0w9XR15Gh"
      },
      "execution_count": null,
      "outputs": []
    },
    {
      "cell_type": "code",
      "source": [
        "X = df.drop('Class', axis=1)\n",
        "y = df['Class']"
      ],
      "metadata": {
        "id": "FihMHrIu5kuZ"
      },
      "execution_count": null,
      "outputs": []
    },
    {
      "cell_type": "code",
      "source": [
        "scaler = MinMaxScaler(feature_range=(-1, 1))\n",
        "x_scaled = scaler.fit_transform(X)\n",
        "X = pd.DataFrame(x_scaled,columns=['F1','F2','F3','F4','F5','F6','F7','F8','F9','F10','F11','F12','F13','F14'])"
      ],
      "metadata": {
        "id": "g-jaOYaaoPOf"
      },
      "execution_count": null,
      "outputs": []
    },
    {
      "cell_type": "markdown",
      "source": [
        "Data Visualization"
      ],
      "metadata": {
        "id": "TyJn5VXW5b-2"
      }
    },
    {
      "cell_type": "code",
      "source": [
        "plt.figure(figsize=(12,10))\n",
        "# seaborn has an easy method to showcase heatmap\n",
        "p = sns.heatmap(X.corr(), annot=True,cmap ='viridis_r')"
      ],
      "metadata": {
        "colab": {
          "base_uri": "https://localhost:8080/",
          "height": 596
        },
        "id": "Gw5N8OIKndCD",
        "outputId": "9ecee115-7185-4814-8477-8013ae7dd9a8"
      },
      "execution_count": null,
      "outputs": [
        {
          "output_type": "display_data",
          "data": {
            "text/plain": [
              "<Figure size 864x720 with 2 Axes>"
            ],
            "image/png": "[encoded data removed]"
          },
          "metadata": {
            "needs_background": "light"
          }
        }
      ]
    },
    {
      "cell_type": "code",
      "source": [
        "_ = sns.histplot(y, kde=False)"
      ],
      "metadata": {
        "colab": {
          "base_uri": "https://localhost:8080/",
          "height": 279
        },
        "id": "nBeHNW08pkFi",
        "outputId": "abf45e1a-e619-415b-a34d-00b3b52a4814"
      },
      "execution_count": null,
      "outputs": [
        {
          "output_type": "display_data",
          "data": {
            "text/plain": [
              "<Figure size 432x288 with 1 Axes>"
            ],
            "image/png": "[encoded data removed]"
          },
          "metadata": {
            "needs_background": "light"
          }
        }
      ]
    },
    {
      "cell_type": "code",
      "source": [
        "X_train, X_test, y_train, y_test = train_test_split(X,y, test_size=0.30,random_state=42)"
      ],
      "metadata": {
        "id": "my9GeMrg5sGf"
      },
      "execution_count": null,
      "outputs": []
    },
    {
      "cell_type": "markdown",
      "source": [
        "# Descision Tree Classifier"
      ],
      "metadata": {
        "id": "kZ9pCmwIvfTc"
      }
    },
    {
      "cell_type": "code",
      "source": [
        "clf = DecisionTreeClassifier(criterion='entropy', random_state=0) #“entropy” for the information gain.\n",
        "clf.fit(X_train, y_train)\n",
        "#check accuracy score\n",
        "scores = cross_val_score(clf,X_train, y_train, cv=10,scoring=make_scorer(acc))  # cross-validation\n",
        "print(\"ACC: %.2f +/- %.2f\" % (scores.mean(), scores.std()))\n",
        "#check f1 score\n",
        "scores = cross_val_score(clf,X_train, y_train, cv=10,scoring=make_scorer(f1))  # cross-validation\n",
        "print(\"F1: %.2f +/- %.2f\" % (scores.mean(), scores.std()))"
      ],
      "metadata": {
        "colab": {
          "base_uri": "https://localhost:8080/"
        },
        "id": "yZW1492_sgxe",
        "outputId": "a387e403-4d65-4011-b2bb-423980e6425f"
      },
      "execution_count": null,
      "outputs": [
        {
          "output_type": "stream",
          "name": "stdout",
          "text": [
            "ACC: 0.77 +/- 0.03\n",
            "F1: 0.75 +/- 0.04\n"
          ]
        }
      ]
    },
    {
      "cell_type": "code",
      "source": [
        "# predict on test data\n",
        "y_pred = clf.predict(X_test)\n",
        "print(\"Accuracy Score =\", format(acc(y_test,y_pred)))"
      ],
      "metadata": {
        "colab": {
          "base_uri": "https://localhost:8080/"
        },
        "id": "uJ4_aqyltKQg",
        "outputId": "841abfca-b103-4459-ce58-5307910c1d5d"
      },
      "execution_count": null,
      "outputs": [
        {
          "output_type": "stream",
          "name": "stdout",
          "text": [
            "Accuracy Score = 0.78\n"
          ]
        }
      ]
    },
    {
      "cell_type": "code",
      "source": [
        "cm = confusion_matrix(y_test, y_pred)\n",
        "disp = skl.metrics.ConfusionMatrixDisplay(confusion_matrix=cm)  \n",
        "disp.plot()\n",
        "plt.savefig('cmdt.png')\n",
        "plt.show()"
      ],
      "metadata": {
        "colab": {
          "base_uri": "https://localhost:8080/",
          "height": 279
        },
        "id": "F_4ALvGa2SpH",
        "outputId": "ad4f060b-7584-42a7-e69b-652ae9d4ccca"
      },
      "execution_count": null,
      "outputs": [
        {
          "output_type": "display_data",
          "data": {
            "text/plain": [
              "<Figure size 432x288 with 2 Axes>"
            ],
            "image/png": "[encoded data removed]"
          },
          "metadata": {
            "needs_background": "light"
          }
        }
      ]
    },
    {
      "cell_type": "code",
      "source": [
        "from sklearn import tree\n",
        "text_representation = tree.export_text(clf)\n",
        "fig = plt.figure(figsize=(25,20))\n",
        "_ = tree.plot_tree(clf, \n",
        "                   feature_names=X.columns.values,  \n",
        "                   class_names=['True','False'],\n",
        "                   filled=True)\n",
        "fig.savefig(\"decistion_tree.png\")"
      ],
      "metadata": {
        "id": "YJ2DzXHrvJDA"
      },
      "execution_count": null,
      "outputs": []
    },
    {
      "cell_type": "markdown",
      "source": [
        "# Support vector machine"
      ],
      "metadata": {
        "id": "K7tCeI5r2aNw"
      }
    },
    {
      "cell_type": "code",
      "source": [
        "from sklearn import svm\n",
        "\n",
        "#Create a svm Classifier\n",
        "svmclf = svm.SVC(kernel='linear') # Linear Kernel\n",
        "\n",
        "#Train the model using the training sets\n",
        "svmclf.fit(X_train, y_train)\n",
        "\n",
        "#check accuracy score\n",
        "scores = cross_val_score(svmclf,X_train, y_train, cv=10,scoring=make_scorer(acc))  # cross-validation\n",
        "print(\"ACC: %.2f +/- %.2f\" % (scores.mean(), scores.std()))\n",
        "#check f1 score\n",
        "scores = cross_val_score(svmclf,X_train, y_train, cv=10,scoring=make_scorer(f1))  # cross-validation\n",
        "print(\"F1: %.2f +/- %.2f\" % (scores.mean(), scores.std()))"
      ],
      "metadata": {
        "colab": {
          "base_uri": "https://localhost:8080/"
        },
        "id": "sDrlNIAy2-sm",
        "outputId": "76f8d210-c690-4d41-dd5e-df81ece2505a"
      },
      "execution_count": null,
      "outputs": [
        {
          "output_type": "stream",
          "name": "stdout",
          "text": [
            "ACC: 0.78 +/- 0.06\n",
            "F1: 0.77 +/- 0.05\n"
          ]
        }
      ]
    },
    {
      "cell_type": "code",
      "source": [
        "y_pred = svmclf.predict(X_test)\n",
        "print(\"Accuracy Score = %.2f\" % (acc(y_test,y_pred)))\n",
        "y_pred = svmclf.predict(X_test)\n",
        "print(\"F1 Score = %.2f\" % (f1(y_test,y_pred)))"
      ],
      "metadata": {
        "colab": {
          "base_uri": "https://localhost:8080/"
        },
        "id": "hTyZHoUr8SGU",
        "outputId": "68fcfefb-6a5b-4257-ce81-9704f93a4b3d"
      },
      "execution_count": null,
      "outputs": [
        {
          "output_type": "stream",
          "name": "stdout",
          "text": [
            "Accuracy Score = 0.77\n",
            "F1 Score = 0.77\n"
          ]
        }
      ]
    },
    {
      "cell_type": "code",
      "source": [
        "cm = confusion_matrix(y_test, y_pred)\n",
        "disp = skl.metrics.ConfusionMatrixDisplay(confusion_matrix=cm)  \n",
        "disp.plot()\n",
        "plt.savefig('cmsv.png')\n",
        "plt.show()\n"
      ],
      "metadata": {
        "colab": {
          "base_uri": "https://localhost:8080/",
          "height": 279
        },
        "id": "9p2A4eec8Vqi",
        "outputId": "6b144144-e4ec-4277-fe3e-d38c199d952a"
      },
      "execution_count": null,
      "outputs": [
        {
          "output_type": "display_data",
          "data": {
            "text/plain": [
              "<Figure size 432x288 with 2 Axes>"
            ],
            "image/png": "[encoded data removed]"
          },
          "metadata": {
            "needs_background": "light"
          }
        }
      ]
    },
    {
      "cell_type": "markdown",
      "source": [
        "# Random Forest Classifier"
      ],
      "metadata": {
        "id": "Vhtdsg6z2vCT"
      }
    },
    {
      "cell_type": "code",
      "source": [
        "from sklearn.ensemble import RandomForestClassifier\n",
        "\n",
        "#Create a Gaussian Classifier\n",
        "rfclf = RandomForestClassifier(criterion='entropy', random_state=0)\n",
        "\n",
        "# Train the model using the training sets\n",
        "rfclf.fit(X_train, y_train)\n",
        "\n",
        "#check accuracy score\n",
        "scores = cross_val_score(rfclf,X_train, y_train, cv=10,scoring=make_scorer(acc))  # cross-validation\n",
        "print(\"ACC: %.2f +/- %.2f\" % (scores.mean(), scores.std()))\n",
        "#check f1 score\n",
        "scores = cross_val_score(rfclf,X_train, y_train, cv=10,scoring=make_scorer(f1))  # cross-validation\n",
        "print(\"F1: %.2f +/- %.2f\" % (scores.mean(), scores.std()))"
      ],
      "metadata": {
        "colab": {
          "base_uri": "https://localhost:8080/"
        },
        "id": "ovMbmEEk8mzI",
        "outputId": "3f6994eb-e935-40e9-8a7d-76aa72cf4f06"
      },
      "execution_count": null,
      "outputs": [
        {
          "output_type": "stream",
          "name": "stdout",
          "text": [
            "ACC: 0.83 +/- 0.05\n",
            "F1: 0.81 +/- 0.06\n"
          ]
        }
      ]
    },
    {
      "cell_type": "code",
      "source": [
        "#Predict y for test dataset\n",
        "y_pred = rfclf.predict(X_test)\n",
        "print(\"Accuracy Score = %.2f\" % (acc(y_test,y_pred)))\n",
        "y_pred = rfclf.predict(X_test)\n",
        "print(\"F1 = %.2f\" % (f1(y_test,y_pred)))"
      ],
      "metadata": {
        "colab": {
          "base_uri": "https://localhost:8080/"
        },
        "id": "lX__hb5E8xw8",
        "outputId": "06f63080-bb76-4b3e-aa76-1d5427f92f09"
      },
      "execution_count": null,
      "outputs": [
        {
          "output_type": "stream",
          "name": "stdout",
          "text": [
            "Accuracy Score = 0.82\n",
            "F1 = 0.82\n"
          ]
        }
      ]
    },
    {
      "cell_type": "code",
      "source": [
        "cm = confusion_matrix(y_test, y_pred)\n",
        "disp = skl.metrics.ConfusionMatrixDisplay(confusion_matrix=cm)  \n",
        "disp.plot()\n",
        "plt.savefig('cmrf.png')\n",
        "plt.show()\n"
      ],
      "metadata": {
        "colab": {
          "base_uri": "https://localhost:8080/",
          "height": 279
        },
        "id": "VZUklu5p8cHC",
        "outputId": "75e2604c-d8c7-4a65-92cc-e7fa05006443"
      },
      "execution_count": null,
      "outputs": [
        {
          "output_type": "display_data",
          "data": {
            "text/plain": [
              "<Figure size 432x288 with 2 Axes>"
            ],
            "image/png": "[encoded data removed]"
          },
          "metadata": {
            "needs_background": "light"
          }
        }
      ]
    },
    {
      "cell_type": "markdown",
      "source": [
        "# Prediction on Test Data"
      ],
      "metadata": {
        "id": "mrjRTO64Jhst"
      }
    },
    {
      "cell_type": "code",
      "source": [
        "# Predictions on test data\n",
        "test_data = pd.read_csv('CE802_P2_Test.csv')\n",
        "x = test_data.drop(['F15','Class'], axis=1)\n"
      ],
      "metadata": {
        "id": "AmzdTfu9uNMu"
      },
      "execution_count": null,
      "outputs": []
    },
    {
      "cell_type": "code",
      "source": [
        "scaler = MinMaxScaler(feature_range=(-1, 1))\n",
        "x_scaled = scaler.fit_transform(x)\n",
        "x_test = pd.DataFrame(x_scaled,columns=['F1','F2','F3','F4','F5','F6','F7','F8','F9','F10','F11','F12','F13','F14'])"
      ],
      "metadata": {
        "id": "n374l5wSBTle"
      },
      "execution_count": null,
      "outputs": []
    },
    {
      "cell_type": "code",
      "source": [
        "# save model \n",
        "saved_model = pkl.dumps(svmclf)\n",
        "model = pkl.loads(saved_model)"
      ],
      "metadata": {
        "id": "oGAF85JWwAxp"
      },
      "execution_count": null,
      "outputs": []
    },
    {
      "cell_type": "code",
      "source": [
        "y_test = model.predict(x_test)"
      ],
      "metadata": {
        "id": "k9TouDDDukTj"
      },
      "execution_count": null,
      "outputs": []
    },
    {
      "cell_type": "code",
      "source": [
        "y_test= np.where(y_test == 1,\"True\",\"False\")"
      ],
      "metadata": {
        "id": "7OPxGZaqEx0F"
      },
      "execution_count": null,
      "outputs": []
    },
    {
      "cell_type": "code",
      "source": [
        "test_data['Class'] = y_test"
      ],
      "metadata": {
        "id": "AV7fXFApHVD6"
      },
      "execution_count": null,
      "outputs": []
    },
    {
      "cell_type": "code",
      "source": [
        "test_data.head(5)"
      ],
      "metadata": {
        "colab": {
          "base_uri": "https://localhost:8080/",
          "height": 204
        },
        "id": "dACGdjdiOZbI",
        "outputId": "ac515d3a-3c7d-4ed9-e5ac-81940f9a7e76"
      },
      "execution_count": null,
      "outputs": [
        {
          "output_type": "execute_result",
          "data": {
            "text/plain": [
              "     F1     F2   F3     F4    F5     F6     F7     F8      F9  F10    F11  \\\n",
              "0 -8.67 -25.56   21  13.14 -7.45   5.55  10.29 -30.98 -476.72    2  -1.17   \n",
              "1 -8.31 -29.19   10  12.16 -7.66   5.22  10.22 -30.98 -422.72    2  -0.96   \n",
              "2 -0.84 -25.29  110  12.34 -3.72  20.70  17.32 -76.98 -778.72   20  11.10   \n",
              "3  0.90 -14.94  120   9.44 -3.44  28.05  15.52 -56.98 -858.72   20   6.33   \n",
              "4 -0.33  -9.60  345  14.26 -3.32  34.80  15.07 -36.98 -458.72   20  12.18   \n",
              "\n",
              "      F12   F13   F14   F15  Class  \n",
              "0   61.66  0.23  3.76  7.60   True  \n",
              "1   79.66  0.02  1.22  6.72   True  \n",
              "2  -20.34  5.75 -1.97   NaN  False  \n",
              "3  229.66  8.05 -1.77   NaN  False  \n",
              "4  129.66  9.80 -2.17  6.60   True  "
            ],
            "text/html": [
              "\n",
              "  <div id=\"df-f7753a7a-cfc9-47f8-bc67-ea339cd6ccea\">\n",
              "    <div class=\"colab-df-container\">\n",
              "      <div>\n",
              "<style scoped>\n",
              "    .dataframe tbody tr th:only-of-type {\n",
              "        vertical-align: middle;\n",
              "    }\n",
              "\n",
              "    .dataframe tbody tr th {\n",
              "        vertical-align: top;\n",
              "    }\n",
              "\n",
              "    .dataframe thead th {\n",
              "        text-align: right;\n",
              "    }\n",
              "</style>\n",
              "<table border=\"1\" class=\"dataframe\">\n",
              "  <thead>\n",
              "    <tr style=\"text-align: right;\">\n",
              "      <th></th>\n",
              "      <th>F1</th>\n",
              "      <th>F2</th>\n",
              "      <th>F3</th>\n",
              "      <th>F4</th>\n",
              "      <th>F5</th>\n",
              "      <th>F6</th>\n",
              "      <th>F7</th>\n",
              "      <th>F8</th>\n",
              "      <th>F9</th>\n",
              "      <th>F10</th>\n",
              "      <th>F11</th>\n",
              "      <th>F12</th>\n",
              "      <th>F13</th>\n",
              "      <th>F14</th>\n",
              "      <th>F15</th>\n",
              "      <th>Class</th>\n",
              "    </tr>\n",
              "  </thead>\n",
              "  <tbody>\n",
              "    <tr>\n",
              "      <th>0</th>\n",
              "      <td>-8.67</td>\n",
              "      <td>-25.56</td>\n",
              "      <td>21</td>\n",
              "      <td>13.14</td>\n",
              "      <td>-7.45</td>\n",
              "      <td>5.55</td>\n",
              "      <td>10.29</td>\n",
              "      <td>-30.98</td>\n",
              "      <td>-476.72</td>\n",
              "      <td>2</td>\n",
              "      <td>-1.17</td>\n",
              "      <td>61.66</td>\n",
              "      <td>0.23</td>\n",
              "      <td>3.76</td>\n",
              "      <td>7.60</td>\n",
              "      <td>True</td>\n",
              "    </tr>\n",
              "    <tr>\n",
              "      <th>1</th>\n",
              "      <td>-8.31</td>\n",
              "      <td>-29.19</td>\n",
              "      <td>10</td>\n",
              "      <td>12.16</td>\n",
              "      <td>-7.66</td>\n",
              "      <td>5.22</td>\n",
              "      <td>10.22</td>\n",
              "      <td>-30.98</td>\n",
              "      <td>-422.72</td>\n",
              "      <td>2</td>\n",
              "      <td>-0.96</td>\n",
              "      <td>79.66</td>\n",
              "      <td>0.02</td>\n",
              "      <td>1.22</td>\n",
              "      <td>6.72</td>\n",
              "      <td>True</td>\n",
              "    </tr>\n",
              "    <tr>\n",
              "      <th>2</th>\n",
              "      <td>-0.84</td>\n",
              "      <td>-25.29</td>\n",
              "      <td>110</td>\n",
              "      <td>12.34</td>\n",
              "      <td>-3.72</td>\n",
              "      <td>20.70</td>\n",
              "      <td>17.32</td>\n",
              "      <td>-76.98</td>\n",
              "      <td>-778.72</td>\n",
              "      <td>20</td>\n",
              "      <td>11.10</td>\n",
              "      <td>-20.34</td>\n",
              "      <td>5.75</td>\n",
              "      <td>-1.97</td>\n",
              "      <td>NaN</td>\n",
              "      <td>False</td>\n",
              "    </tr>\n",
              "    <tr>\n",
              "      <th>3</th>\n",
              "      <td>0.90</td>\n",
              "      <td>-14.94</td>\n",
              "      <td>120</td>\n",
              "      <td>9.44</td>\n",
              "      <td>-3.44</td>\n",
              "      <td>28.05</td>\n",
              "      <td>15.52</td>\n",
              "      <td>-56.98</td>\n",
              "      <td>-858.72</td>\n",
              "      <td>20</td>\n",
              "      <td>6.33</td>\n",
              "      <td>229.66</td>\n",
              "      <td>8.05</td>\n",
              "      <td>-1.77</td>\n",
              "      <td>NaN</td>\n",
              "      <td>False</td>\n",
              "    </tr>\n",
              "    <tr>\n",
              "      <th>4</th>\n",
              "      <td>-0.33</td>\n",
              "      <td>-9.60</td>\n",
              "      <td>345</td>\n",
              "      <td>14.26</td>\n",
              "      <td>-3.32</td>\n",
              "      <td>34.80</td>\n",
              "      <td>15.07</td>\n",
              "      <td>-36.98</td>\n",
              "      <td>-458.72</td>\n",
              "      <td>20</td>\n",
              "      <td>12.18</td>\n",
              "      <td>129.66</td>\n",
              "      <td>9.80</td>\n",
              "      <td>-2.17</td>\n",
              "      <td>6.60</td>\n",
              "      <td>True</td>\n",
              "    </tr>\n",
              "  </tbody>\n",
              "</table>\n",
              "</div>\n",
              "      <button class=\"colab-df-convert\" onclick=\"convertToInteractive('df-f7753a7a-cfc9-47f8-bc67-ea339cd6ccea')\"\n",
              "              title=\"Convert this dataframe to an interactive table.\"\n",
              "              style=\"display:none;\">\n",
              "        \n",
              "  <svg xmlns=\"http://www.w3.org/2000/svg\" height=\"24px\"viewBox=\"0 0 24 24\"\n",
              "       width=\"24px\">\n",
              "    <path d=\"M0 0h24v24H0V0z\" fill=\"none\"/>\n",
              "    <path d=\"M18.56 5.44l.94 2.06.94-2.06 2.06-.94-2.06-.94-.94-2.06-.94 2.06-2.06.94zm-11 1L8.5 8.5l.94-2.06 2.06-.94-2.06-.94L8.5 2.5l-.94 2.06-2.06.94zm10 10l.94 2.06.94-2.06 2.06-.94-2.06-.94-.94-2.06-.94 2.06-2.06.94z\"/><path d=\"M17.41 7.96l-1.37-1.37c-.4-.4-.92-.59-1.43-.59-.52 0-1.04.2-1.43.59L10.3 9.45l-7.72 7.72c-.78.78-.78 2.05 0 2.83L4 21.41c.39.39.9.59 1.41.59.51 0 1.02-.2 1.41-.59l7.78-7.78 2.81-2.81c.8-.78.8-2.07 0-2.86zM5.41 20L4 18.59l7.72-7.72 1.47 1.35L5.41 20z\"/>\n",
              "  </svg>\n",
              "      </button>\n",
              "      \n",
              "  <style>\n",
              "    .colab-df-container {\n",
              "      display:flex;\n",
              "      flex-wrap:wrap;\n",
              "      gap: 12px;\n",
              "    }\n",
              "\n",
              "    .colab-df-convert {\n",
              "      background-color: #E8F0FE;\n",
              "      border: none;\n",
              "      border-radius: 50%;\n",
              "      cursor: pointer;\n",
              "      display: none;\n",
              "      fill: #1967D2;\n",
              "      height: 32px;\n",
              "      padding: 0 0 0 0;\n",
              "      width: 32px;\n",
              "    }\n",
              "\n",
              "    .colab-df-convert:hover {\n",
              "      background-color: #E2EBFA;\n",
              "      box-shadow: 0px 1px 2px rgba(60, 64, 67, 0.3), 0px 1px 3px 1px rgba(60, 64, 67, 0.15);\n",
              "      fill: #174EA6;\n",
              "    }\n",
              "\n",
              "    [theme=dark] .colab-df-convert {\n",
              "      background-color: #3B4455;\n",
              "      fill: #D2E3FC;\n",
              "    }\n",
              "\n",
              "    [theme=dark] .colab-df-convert:hover {\n",
              "      background-color: #434B5C;\n",
              "      box-shadow: 0px 1px 3px 1px rgba(0, 0, 0, 0.15);\n",
              "      filter: drop-shadow(0px 1px 2px rgba(0, 0, 0, 0.3));\n",
              "      fill: #FFFFFF;\n",
              "    }\n",
              "  </style>\n",
              "\n",
              "      <script>\n",
              "        const buttonEl =\n",
              "          document.querySelector('#df-f7753a7a-cfc9-47f8-bc67-ea339cd6ccea button.colab-df-convert');\n",
              "        buttonEl.style.display =\n",
              "          google.colab.kernel.accessAllowed ? 'block' : 'none';\n",
              "\n",
              "        async function convertToInteractive(key) {\n",
              "          const element = document.querySelector('#df-f7753a7a-cfc9-47f8-bc67-ea339cd6ccea');\n",
              "          const dataTable =\n",
              "            await google.colab.kernel.invokeFunction('convertToInteractive',\n",
              "                                                     [key], {});\n",
              "          if (!dataTable) return;\n",
              "\n",
              "          const docLinkHtml = 'Like what you see? Visit the ' +\n",
              "            '<a target=\"_blank\" href=https://colab.research.google.com/notebooks/data_table.ipynb>data table notebook</a>'\n",
              "            + ' to learn more about interactive tables.';\n",
              "          element.innerHTML = '';\n",
              "          dataTable['output_type'] = 'display_data';\n",
              "          await google.colab.output.renderOutput(dataTable, element);\n",
              "          const docLink = document.createElement('div');\n",
              "          docLink.innerHTML = docLinkHtml;\n",
              "          element.appendChild(docLink);\n",
              "        }\n",
              "      </script>\n",
              "    </div>\n",
              "  </div>\n",
              "  "
            ]
          },
          "metadata": {},
          "execution_count": 57
        }
      ]
    },
    {
      "cell_type": "code",
      "source": [
        "#save predictions to csv\n",
        "test_data.to_csv('CE802_P2_Test.csv')"
      ],
      "metadata": {
        "id": "rpDT3YoaOIBq"
      },
      "execution_count": null,
      "outputs": []
    }
  ]
}